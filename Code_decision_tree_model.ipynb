{
 "cells": [
  {
   "cell_type": "markdown",
   "metadata": {},
   "source": [
    "# Investigating Feature Usage Constraints in Decision Tree Splits Using Synthetic Data\n"
   ]
  },
  {
   "cell_type": "markdown",
   "metadata": {},
   "source": [
    "## Objective\n",
    "\n",
    "- In this notebook, I aim to explore the impact of limiting feature reuse in decision tree construction. I have implemented a custom decision tree algorithm that allows me to control how many times each feature can be used for splitting. \n",
    "\n",
    "- To evaluate whether such a restriction is appropriate, I generate a synthetic 2D dataset with clearly separable class regions that require multiple splits along the same feature for accurate classification. \n",
    "\n",
    "- **The main goal is to demonstrate that enforcing a hard limit on the number of times a feature can be used may prevent the model from learning the optimal decision boundaries** — especially when the same feature continues to provide the best splits.\n",
    "\n",
    "- Through visualizations of the decision boundaries and the resulting accuracy metrics, I compare the performance of the tree with and without the feature usage constraint.\n"
   ]
  },
  {
   "cell_type": "markdown",
   "metadata": {},
   "source": [
    "### Libries"
   ]
  },
  {
   "cell_type": "code",
   "execution_count": 15,
   "metadata": {},
   "outputs": [],
   "source": [
    "import numpy as np\n",
    "import pandas as pd\n",
    "import matplotlib.pyplot as plt\n",
    "from sklearn.datasets import make_classification\n",
    "import plotly.express as px\n",
    "import plotly.graph_objects as go"
   ]
  },
  {
   "cell_type": "markdown",
   "metadata": {},
   "source": [
    "## Creating a Practice Dataset to Test the Algorithm\n",
    "\n",
    "To test the behavior and performance of my custom decision tree algorithm, I begin by generating a small synthetic dataset. This dataset contains two numerical features and a binary target variable. It is designed purely for experimentation, allowing me to validate that the algorithm handles basic classification tasks correctly and that the core splitting logic functions as expected.\n",
    "\n",
    "The generated data is visualized on a 2D plot to provide an intuitive understanding of the distribution and separability of the classes.\n"
   ]
  },
  {
   "cell_type": "code",
   "execution_count": 16,
   "metadata": {},
   "outputs": [
    {
     "name": "stdout",
     "output_type": "stream",
     "text": [
      "         x1        x2  target\n",
      "0  0.931059  2.245238       0\n",
      "1 -1.107099  1.095919       0\n",
      "2  0.014190  0.973612       1\n",
      "3  1.031872  2.045483       0\n",
      "4 -2.000897  0.187708       0\n"
     ]
    },
    {
     "data": {
      "image/png": "[encoded data removed]",
      "text/plain": [
       "<Figure size 600x600 with 1 Axes>"
      ]
     },
     "metadata": {},
     "output_type": "display_data"
    }
   ],
   "source": [
    "# Create synthetic 2D classification data\n",
    "np.random.seed(42)\n",
    "\n",
    "# 2 numerical features, binary classification\n",
    "X, y = make_classification(n_samples=20, n_features=2, \n",
    "                           n_informative=2, n_redundant=0,\n",
    "                           n_clusters_per_class=1)\n",
    "\n",
    "df = pd.DataFrame(X, columns=['x1', 'x2'])\n",
    "df['target'] = y\n",
    "print(df.head())\n",
    "# Visualize data\n",
    "plt.figure(figsize=(6, 6))\n",
    "plt.scatter(df['x1'], df['x2'], c=df['target'], cmap='bwr', edgecolor='k')\n",
    "plt.xlabel(\"x1\")\n",
    "plt.ylabel(\"x2\")\n",
    "plt.title(\"Toy Dataset (2 features, binary target)\")\n",
    "plt.grid(True)\n",
    "plt.show()"
   ]
  },
  {
   "cell_type": "markdown",
   "metadata": {},
   "source": [
    "## Key Functions Used in the Tree Model\n",
    "\n",
    "Below are some of the core functions that I will use to build and apply my decision tree algorithm:\n",
    "\n",
    "- **`gini_impurity(y)`**  \n",
    "  - Calculates the Gini impurity of a list of class labels `y`.\n",
    "  - Gini impurity is a measure of how often a randomly chosen element from the set would be incorrectly labeled if it was randomly labeled according to the distribution of labels in the set.\n",
    "  - Lower values indicate purer splits.\n",
    "\n",
    "- **`find_best_split(df, features, target_col='target')`**  \n",
    "  - Iterates over all provided features and possible split thresholds to find the best binary split based on Gini impurity.\n",
    "  - Returns a dictionary with the best split's feature, threshold, impurity score, and the resulting left and right DataFrames after the split.\n",
    "\n",
    "- **`plot_all_splits(df, split_history)`**  \n",
    "  - Visualizes all decision splits made by the tree using Plotly.\n",
    "  - Colors the data points by their class labels and overlays dashed lines to show the boundaries of each split.\n",
    "  - Helpful for understanding how the tree is partitioning the feature space.\n",
    "\n",
    "- **`predict_row(tree, row)`**  \n",
    "  - Recursively traverses the decision tree for a single row of input data.\n",
    "  - At each decision node, it checks the feature value and moves left or right accordingly until it reaches a leaf node.\n",
    "  - Returns the predicted class label for that row.\n",
    "\n",
    "- **`predict_tree(tree, df)`**  \n",
    "  - Applies `predict_row` to every row in a DataFrame.\n",
    "  - Returns a Series of predictions for all samples in the dataset.\n",
    "\n",
    "These functions together enable both the construction of the tree model and the evaluation of its performance on data.\n"
   ]
  },
  {
   "cell_type": "code",
   "execution_count": 17,
   "metadata": {},
   "outputs": [],
   "source": [
    "def gini_impurity(y):\n",
    "    \"\"\"Compute Gini impurity for a list of class labels.\"\"\"\n",
    "    classes, counts = np.unique(y, return_counts=True)\n",
    "    probabilities = counts / counts.sum()\n",
    "    return 1 - np.sum(probabilities ** 2)\n"
   ]
  },
  {
   "cell_type": "code",
   "execution_count": 18,
   "metadata": {},
   "outputs": [],
   "source": [
    "def find_best_split(df, features, target_col='target'):\n",
    "    best_gini = float('inf')\n",
    "    best_split = None\n",
    "    \n",
    "    for feature in features:\n",
    "        values = df[feature].sort_values().unique()\n",
    "        midpoints = [(values[i] + values[i+1])/2 for i in range(len(values)-1)]\n",
    "        \n",
    "        for threshold in midpoints:\n",
    "            left = df[df[feature] < threshold]\n",
    "            right = df[df[feature] >= threshold]\n",
    "\n",
    "            if len(left) == 0 or len(right) == 0:\n",
    "                continue\n",
    "            \n",
    "            gini_left = gini_impurity(left[target_col])\n",
    "            gini_right = gini_impurity(right[target_col])\n",
    "            weighted_gini = (len(left) * gini_left + len(right) * gini_right) / len(df)\n",
    "\n",
    "            if weighted_gini < best_gini:\n",
    "                best_gini = weighted_gini\n",
    "                best_split = {\n",
    "                    'feature': feature,\n",
    "                    'threshold': threshold,\n",
    "                    'gini': best_gini,\n",
    "                    'left': left,\n",
    "                    'right': right\n",
    "                }\n",
    "    \n",
    "    return best_split\n"
   ]
  },
  {
   "cell_type": "code",
   "execution_count": 19,
   "metadata": {},
   "outputs": [],
   "source": [
    "\n",
    "\n",
    "def plot_all_splits(df, split_history):\n",
    "    df['target_str'] = df['target'].astype(str)\n",
    "\n",
    "    # Start figure with all points\n",
    "    fig = px.scatter(\n",
    "        df,\n",
    "        x='x1',\n",
    "        y='x2',\n",
    "        color='target_str',\n",
    "        color_discrete_sequence=['blue', 'red'],\n",
    "        title='All Tree Splits',\n",
    "        opacity=0.7,\n",
    "        labels={'x1': 'x1', 'x2': 'x2', 'target_str': 'Target'}\n",
    "    )\n",
    "\n",
    "    # For each split, add a restricted boundary line\n",
    "    for split in split_history:\n",
    "        feature = split['feature']\n",
    "        threshold = split['threshold']\n",
    "        subset_df = split['df']\n",
    "\n",
    "        if feature == 'x1':\n",
    "            fig.add_shape(\n",
    "                type='line',\n",
    "                x0=threshold, x1=threshold,\n",
    "                y0=subset_df['x2'].min(), y1=subset_df['x2'].max(),\n",
    "                line=dict(color='green', dash='dash')\n",
    "            )\n",
    "        else:  # 'x2'\n",
    "            fig.add_shape(\n",
    "                type='line',\n",
    "                x0=subset_df['x1'].min(), x1=subset_df['x1'].max(),\n",
    "                y0=threshold, y1=threshold,\n",
    "                line=dict(color='purple', dash='dash')\n",
    "            )\n",
    "\n",
    "    fig.update_layout(\n",
    "        showlegend=True,\n",
    "        coloraxis_showscale=False,\n",
    "        height=600,\n",
    "        width=600\n",
    "    )\n",
    "    fig.show()\n"
   ]
  },
  {
   "cell_type": "code",
   "execution_count": 20,
   "metadata": {},
   "outputs": [],
   "source": [
    "def predict_row(tree, row):\n",
    "    if tree['leaf']:\n",
    "        return tree['prediction']\n",
    "    if row[tree['feature']] < tree['threshold']:\n",
    "        return predict_row(tree['left'], row)\n",
    "    else:\n",
    "        return predict_row(tree['right'], row)\n",
    "\n",
    "def predict_tree(tree, df):\n",
    "    return df.apply(lambda row: predict_row(tree, row), axis=1)\n"
   ]
  },
  {
   "cell_type": "markdown",
   "metadata": {},
   "source": [
    "## Designing a Custom Decision Tree with Feature Usage Limits\n",
    "\n",
    "In this section, I define a recursive function `build_tree` to construct a decision tree from scratch using Gini impurity for splitting. This function is more flexible than typical implementations because it allows me to control not only the **maximum depth** and **minimum number of samples** per node but also **how many times each feature can be used for splitting**.\n",
    "\n",
    "### Key Highlights of This Function:\n",
    "- **Feature Usage Limitation**:  \n",
    "  One of the most important customizations here is the ability to limit how many times each feature can be used in the tree using the parameter `max_feature_usage`.  \n",
    "  This allows me to **prevent the model from over-relying on a single feature**, which can improve generalization and interpretability.\n",
    "\n",
    "- **Split History Tracking**:  \n",
    "  The function keeps track of all splits (including the feature used, threshold value, Gini score, and depth) in the `split_history` list. This information is useful for visualization and understanding the tree's structure.\n",
    "\n",
    "- **Stopping Criteria**:  \n",
    "  The recursion stops when one of the following conditions is met:\n",
    "  - Maximum tree depth (`max_depth`) is reached\n",
    "  - All samples belong to a single class\n",
    "  - The number of samples falls below `min_samples`\n",
    "  - No more features are available within their allowed usage limits\n",
    "\n",
    "This design enables me to build interpretable and constrained decision trees tailored to specific modeling goals or data characteristics.\n"
   ]
  },
  {
   "cell_type": "code",
   "execution_count": 21,
   "metadata": {},
   "outputs": [],
   "source": [
    "def build_tree(df, features, target_col='target', depth=0, max_depth=3, min_samples=5, \n",
    "               feature_usage=None, max_feature_usage=2, split_history=None):\n",
    "\n",
    "    if feature_usage is None:\n",
    "        feature_usage = {feature: 0 for feature in features}\n",
    "    if split_history is None:\n",
    "        split_history = []\n",
    "\n",
    "    if (depth >= max_depth or \n",
    "        len(df[target_col].unique()) == 1 or \n",
    "        len(df) <= min_samples):\n",
    "        return {\n",
    "            'leaf': True,\n",
    "            'prediction': df[target_col].mode()[0],\n",
    "            'samples': len(df),\n",
    "            'depth': depth\n",
    "        }\n",
    "\n",
    "    usable_features = [f for f in features if feature_usage[f] < max_feature_usage]\n",
    "    if not usable_features:\n",
    "        return {\n",
    "            'leaf': True,\n",
    "            'prediction': df[target_col].mode()[0],\n",
    "            'samples': len(df),\n",
    "            'depth': depth\n",
    "        }\n",
    "\n",
    "    split = find_best_split(df, usable_features, target_col)\n",
    "\n",
    "    if not split:\n",
    "        return {\n",
    "            'leaf': True,\n",
    "            'prediction': df[target_col].mode()[0],\n",
    "            'samples': len(df),\n",
    "            'depth': depth\n",
    "        }\n",
    "\n",
    "    # Track the split (no plotting)\n",
    "    split_history.append({\n",
    "        'depth': depth,\n",
    "        'feature': split['feature'],\n",
    "        'threshold': split['threshold'],\n",
    "        'gini': split['gini'],\n",
    "        'samples': len(df),\n",
    "        'df': df.copy()  # Needed for plotting local boundaries\n",
    "    })\n",
    "\n",
    "    feature_usage[split['feature']] += 1\n",
    "\n",
    "    # Recursive calls with copied feature usage\n",
    "    left_subtree = build_tree(split['left'], features, target_col, \n",
    "                              depth + 1, max_depth, min_samples, \n",
    "                              feature_usage, max_feature_usage,\n",
    "                              split_history)\n",
    "\n",
    "    right_subtree = build_tree(split['right'], features, target_col, \n",
    "                               depth + 1, max_depth, min_samples, \n",
    "                               feature_usage, max_feature_usage,\n",
    "                               split_history)\n",
    "\n",
    "    return {\n",
    "        'leaf': False,\n",
    "        'feature': split['feature'],\n",
    "        'threshold': split['threshold'],\n",
    "        'gini': split['gini'],\n",
    "        'depth': depth,\n",
    "        'samples': len(df),\n",
    "        'left': left_subtree,\n",
    "        'right': right_subtree,\n",
    "        'history': split_history\n",
    "    }\n"
   ]
  },
  {
   "cell_type": "markdown",
   "metadata": {},
   "source": [
    "## Applying the Custom Decision Tree with Limited Feature Usage\n",
    "\n",
    "Now that I have defined the `build_tree` function, I apply it to the synthetic dataset using both features (`x1` and `x2`). I also rename the resulting tree to `tree_Testmodel_limited_features` for clarity.\n",
    "\n",
    "### Model Settings:\n",
    "- **Maximum Tree Depth**: 3  \n",
    "- **Minimum Samples per Node**: 5  \n",
    "- **Maximum Times a Feature Can Be Used**: 2  \n",
    "\n",
    "These settings are chosen to keep the tree small and interpretable, and to ensure that no single feature dominates the decision-making process.\n",
    "\n",
    "### Key Outputs:\n",
    "- **Split History**:  \n",
    "  I print each decision split made by the tree along with the depth, feature used, threshold value, Gini impurity, and number of samples at that point. This gives insight into how the model is learning from the data.\n",
    "\n",
    "- **Visualizing the Splits**:  \n",
    "  Using `plot_all_splits`, I visualize the decision boundaries created at each step of the tree-building process. This helps me understand how the model partitions the feature space.\n",
    "\n",
    "- **Prediction and Evaluation**:  \n",
    "  I use the trained tree to predict the target values for the dataset and compare them with the actual targets. The model's performance is summarized using:\n",
    "  - **Accuracy**: Proportion of correctly predicted samples\n",
    "  - **Misclassification Rate**: Proportion of incorrectly predicted samples\n",
    "\n",
    "This final evaluation provides a quick check on how well the model is performing on the toy dataset.\n"
   ]
  },
  {
   "cell_type": "code",
   "execution_count": 22,
   "metadata": {},
   "outputs": [
    {
     "name": "stdout",
     "output_type": "stream",
     "text": [
      "Depth 0: Split on x1 < -0.39 (Gini = 0.286, Samples = 20)\n",
      "Depth 1: Split on x2 < 1.43 (Gini = 0.190, Samples = 14)\n",
      "Depth 2: Split on x1 < -0.26 (Gini = 0.267, Samples = 6)\n"
     ]
    },
    {
     "data": {
      "application/vnd.plotly.v1+json": {
       "config": {
        "plotlyServerURL": "https://plot.ly"
       },
       "data": [
        {
         "hovertemplate": "Target=0<br>x1=%{x}<br>x2=%{y}<extra></extra>",
         "legendgroup": "0",
         "marker": {
          "color": "blue",
          "opacity": 0.7,
          "symbol": "circle"
         },
         "mode": "markers",
         "name": "0",
         "orientation": "v",
         "showlegend": true,
         "type": "scatter",
         "x": [
          0.9310592910163531,
          -1.1070985440872043,
          1.0318717970645697,
          -2.0008971149951646,
          -0.5943300639069704,
          -2.918322213264675,
          0.5410767099339262,
          -0.45224702244842907,
          -2.9977325735961315,
          -0.19499792411939754
         ],
         "xaxis": "x",
         "y": [
          2.2452383175024933,
          1.0959189512504888,
          2.045483001337027,
          0.187707856602085,
          1.2241665271293902,
          0.07412892669247251,
          1.5212627005749821,
          1.506057080827878,
          -0.22831066020696422,
          1.4444715649659836
         ],
         "yaxis": "y"
        },
        {
         "hovertemplate": "Target=1<br>x1=%{x}<br>x2=%{y}<extra></extra>",
         "legendgroup": "1",
         "marker": {
          "color": "red",
          "opacity": 0.7,
          "symbol": "circle"
         },
         "mode": "markers",
         "name": "1",
         "orientation": "v",
         "showlegend": true,
         "type": "scatter",
         "x": [
          0.014189940954244973,
          0.30758658290352225,
          2.3517938550341246,
          1.5032755106658438,
          -0.33493667352963596,
          0.9482541614944205,
          0.9419481002737845,
          1.425145886176355,
          0.04822881465439188,
          1.1941331523805405
         ],
         "xaxis": "x",
         "y": [
          0.9736122018475104,
          1.3091994507949198,
          0.7444962230107144,
          1.4187166092076169,
          1.4659187255974349,
          0.6132019305814576,
          1.3582415545723059,
          1.5509826178475783,
          1.3773000971799119,
          1.2171686901555545
         ],
         "yaxis": "y"
        }
       ],
       "layout": {
        "coloraxis": {
         "showscale": false
        },
        "height": 600,
        "legend": {
         "title": {
          "text": "Target"
         },
         "tracegroupgap": 0
        },
        "shapes": [
         {
          "line": {
           "color": "green",
           "dash": "dash"
          },
          "type": "line",
          "x0": -0.3935918479890325,
          "x1": -0.3935918479890325,
          "y0": -0.22831066020696422,
          "y1": 2.2452383175024933
         },
         {
          "line": {
           "color": "purple",
           "dash": "dash"
          },
          "type": "line",
          "x0": -0.33493667352963596,
          "x1": 2.3517938550341246,
          "y0": 1.4315940870868002,
          "y1": 1.4315940870868002
         },
         {
          "line": {
           "color": "green",
           "dash": "dash"
          },
          "type": "line",
          "x0": -0.26496729882451675,
          "x1": -0.26496729882451675,
          "y0": 1.4444715649659836,
          "y1": 2.2452383175024933
         }
        ],
        "showlegend": true,
        "template": {
         "data": {
          "bar": [
           {
            "error_x": {
             "color": "#2a3f5f"
            },
            "error_y": {
             "color": "#2a3f5f"
            },
            "marker": {
             "line": {
              "color": "#E5ECF6",
              "width": 0.5
             },
             "pattern": {
              "fillmode": "overlay",
              "size": 10,
              "solidity": 0.2
             }
            },
            "type": "bar"
           }
          ],
          "barpolar": [
           {
            "marker": {
             "line": {
              "color": "#E5ECF6",
              "width": 0.5
             },
             "pattern": {
              "fillmode": "overlay",
              "size": 10,
              "solidity": 0.2
             }
            },
            "type": "barpolar"
           }
          ],
          "carpet": [
           {
            "aaxis": {
             "endlinecolor": "#2a3f5f",
             "gridcolor": "white",
             "linecolor": "white",
             "minorgridcolor": "white",
             "startlinecolor": "#2a3f5f"
            },
            "baxis": {
             "endlinecolor": "#2a3f5f",
             "gridcolor": "white",
             "linecolor": "white",
             "minorgridcolor": "white",
             "startlinecolor": "#2a3f5f"
            },
            "type": "carpet"
           }
          ],
          "choropleth": [
           {
            "colorbar": {
             "outlinewidth": 0,
             "ticks": ""
            },
            "type": "choropleth"
           }
          ],
          "contour": [
           {
            "colorbar": {
             "outlinewidth": 0,
             "ticks": ""
            },
            "colorscale": [
             [
              0,
              "#0d0887"
             ],
             [
              0.1111111111111111,
              "#46039f"
             ],
             [
              0.2222222222222222,
              "#7201a8"
             ],
             [
              0.3333333333333333,
              "#9c179e"
             ],
             [
              0.4444444444444444,
              "#bd3786"
             ],
             [
              0.5555555555555556,
              "#d8576b"
             ],
             [
              0.6666666666666666,
              "#ed7953"
             ],
             [
              0.7777777777777778,
              "#fb9f3a"
             ],
             [
              0.8888888888888888,
              "#fdca26"
             ],
             [
              1,
              "#f0f921"
             ]
            ],
            "type": "contour"
           }
          ],
          "contourcarpet": [
           {
            "colorbar": {
             "outlinewidth": 0,
             "ticks": ""
            },
            "type": "contourcarpet"
           }
          ],
          "heatmap": [
           {
            "colorbar": {
             "outlinewidth": 0,
             "ticks": ""
            },
            "colorscale": [
             [
              0,
              "#0d0887"
             ],
             [
              0.1111111111111111,
              "#46039f"
             ],
             [
              0.2222222222222222,
              "#7201a8"
             ],
             [
              0.3333333333333333,
              "#9c179e"
             ],
             [
              0.4444444444444444,
              "#bd3786"
             ],
             [
              0.5555555555555556,
              "#d8576b"
             ],
             [
              0.6666666666666666,
              "#ed7953"
             ],
             [
              0.7777777777777778,
              "#fb9f3a"
             ],
             [
              0.8888888888888888,
              "#fdca26"
             ],
             [
              1,
              "#f0f921"
             ]
            ],
            "type": "heatmap"
           }
          ],
          "heatmapgl": [
           {
            "colorbar": {
             "outlinewidth": 0,
             "ticks": ""
            },
            "colorscale": [
             [
              0,
              "#0d0887"
             ],
             [
              0.1111111111111111,
              "#46039f"
             ],
             [
              0.2222222222222222,
              "#7201a8"
             ],
             [
              0.3333333333333333,
              "#9c179e"
             ],
             [
              0.4444444444444444,
              "#bd3786"
             ],
             [
              0.5555555555555556,
              "#d8576b"
             ],
             [
              0.6666666666666666,
              "#ed7953"
             ],
             [
              0.7777777777777778,
              "#fb9f3a"
             ],
             [
              0.8888888888888888,
              "#fdca26"
             ],
             [
              1,
              "#f0f921"
             ]
            ],
            "type": "heatmapgl"
           }
          ],
          "histogram": [
           {
            "marker": {
             "pattern": {
              "fillmode": "overlay",
              "size": 10,
              "solidity": 0.2
             }
            },
            "type": "histogram"
           }
          ],
          "histogram2d": [
           {
            "colorbar": {
             "outlinewidth": 0,
             "ticks": ""
            },
            "colorscale": [
             [
              0,
              "#0d0887"
             ],
             [
              0.1111111111111111,
              "#46039f"
             ],
             [
              0.2222222222222222,
              "#7201a8"
             ],
             [
              0.3333333333333333,
              "#9c179e"
             ],
             [
              0.4444444444444444,
              "#bd3786"
             ],
             [
              0.5555555555555556,
              "#d8576b"
             ],
             [
              0.6666666666666666,
              "#ed7953"
             ],
             [
              0.7777777777777778,
              "#fb9f3a"
             ],
             [
              0.8888888888888888,
              "#fdca26"
             ],
             [
              1,
              "#f0f921"
             ]
            ],
            "type": "histogram2d"
           }
          ],
          "histogram2dcontour": [
           {
            "colorbar": {
             "outlinewidth": 0,
             "ticks": ""
            },
            "colorscale": [
             [
              0,
              "#0d0887"
             ],
             [
              0.1111111111111111,
              "#46039f"
             ],
             [
              0.2222222222222222,
              "#7201a8"
             ],
             [
              0.3333333333333333,
              "#9c179e"
             ],
             [
              0.4444444444444444,
              "#bd3786"
             ],
             [
              0.5555555555555556,
              "#d8576b"
             ],
             [
              0.6666666666666666,
              "#ed7953"
             ],
             [
              0.7777777777777778,
              "#fb9f3a"
             ],
             [
              0.8888888888888888,
              "#fdca26"
             ],
             [
              1,
              "#f0f921"
             ]
            ],
            "type": "histogram2dcontour"
           }
          ],
          "mesh3d": [
           {
            "colorbar": {
             "outlinewidth": 0,
             "ticks": ""
            },
            "type": "mesh3d"
           }
          ],
          "parcoords": [
           {
            "line": {
             "colorbar": {
              "outlinewidth": 0,
              "ticks": ""
             }
            },
            "type": "parcoords"
           }
          ],
          "pie": [
           {
            "automargin": true,
            "type": "pie"
           }
          ],
          "scatter": [
           {
            "fillpattern": {
             "fillmode": "overlay",
             "size": 10,
             "solidity": 0.2
            },
            "type": "scatter"
           }
          ],
          "scatter3d": [
           {
            "line": {
             "colorbar": {
              "outlinewidth": 0,
              "ticks": ""
             }
            },
            "marker": {
             "colorbar": {
              "outlinewidth": 0,
              "ticks": ""
             }
            },
            "type": "scatter3d"
           }
          ],
          "scattercarpet": [
           {
            "marker": {
             "colorbar": {
              "outlinewidth": 0,
              "ticks": ""
             }
            },
            "type": "scattercarpet"
           }
          ],
          "scattergeo": [
           {
            "marker": {
             "colorbar": {
              "outlinewidth": 0,
              "ticks": ""
             }
            },
            "type": "scattergeo"
           }
          ],
          "scattergl": [
           {
            "marker": {
             "colorbar": {
              "outlinewidth": 0,
              "ticks": ""
             }
            },
            "type": "scattergl"
           }
          ],
          "scattermapbox": [
           {
            "marker": {
             "colorbar": {
              "outlinewidth": 0,
              "ticks": ""
             }
            },
            "type": "scattermapbox"
           }
          ],
          "scatterpolar": [
           {
            "marker": {
             "colorbar": {
              "outlinewidth": 0,
              "ticks": ""
             }
            },
            "type": "scatterpolar"
           }
          ],
          "scatterpolargl": [
           {
            "marker": {
             "colorbar": {
              "outlinewidth": 0,
              "ticks": ""
             }
            },
            "type": "scatterpolargl"
           }
          ],
          "scatterternary": [
           {
            "marker": {
             "colorbar": {
              "outlinewidth": 0,
              "ticks": ""
             }
            },
            "type": "scatterternary"
           }
          ],
          "surface": [
           {
            "colorbar": {
             "outlinewidth": 0,
             "ticks": ""
            },
            "colorscale": [
             [
              0,
              "#0d0887"
             ],
             [
              0.1111111111111111,
              "#46039f"
             ],
             [
              0.2222222222222222,
              "#7201a8"
             ],
             [
              0.3333333333333333,
              "#9c179e"
             ],
             [
              0.4444444444444444,
              "#bd3786"
             ],
             [
              0.5555555555555556,
              "#d8576b"
             ],
             [
              0.6666666666666666,
              "#ed7953"
             ],
             [
              0.7777777777777778,
              "#fb9f3a"
             ],
             [
              0.8888888888888888,
              "#fdca26"
             ],
             [
              1,
              "#f0f921"
             ]
            ],
            "type": "surface"
           }
          ],
          "table": [
           {
            "cells": {
             "fill": {
              "color": "#EBF0F8"
             },
             "line": {
              "color": "white"
             }
            },
            "header": {
             "fill": {
              "color": "#C8D4E3"
             },
             "line": {
              "color": "white"
             }
            },
            "type": "table"
           }
          ]
         },
         "layout": {
          "annotationdefaults": {
           "arrowcolor": "#2a3f5f",
           "arrowhead": 0,
           "arrowwidth": 1
          },
          "autotypenumbers": "strict",
          "coloraxis": {
           "colorbar": {
            "outlinewidth": 0,
            "ticks": ""
           }
          },
          "colorscale": {
           "diverging": [
            [
             0,
             "#8e0152"
            ],
            [
             0.1,
             "#c51b7d"
            ],
            [
             0.2,
             "#de77ae"
            ],
            [
             0.3,
             "#f1b6da"
            ],
            [
             0.4,
             "#fde0ef"
            ],
            [
             0.5,
             "#f7f7f7"
            ],
            [
             0.6,
             "#e6f5d0"
            ],
            [
             0.7,
             "#b8e186"
            ],
            [
             0.8,
             "#7fbc41"
            ],
            [
             0.9,
             "#4d9221"
            ],
            [
             1,
             "#276419"
            ]
           ],
           "sequential": [
            [
             0,
             "#0d0887"
            ],
            [
             0.1111111111111111,
             "#46039f"
            ],
            [
             0.2222222222222222,
             "#7201a8"
            ],
            [
             0.3333333333333333,
             "#9c179e"
            ],
            [
             0.4444444444444444,
             "#bd3786"
            ],
            [
             0.5555555555555556,
             "#d8576b"
            ],
            [
             0.6666666666666666,
             "#ed7953"
            ],
            [
             0.7777777777777778,
             "#fb9f3a"
            ],
            [
             0.8888888888888888,
             "#fdca26"
            ],
            [
             1,
             "#f0f921"
            ]
           ],
           "sequentialminus": [
            [
             0,
             "#0d0887"
            ],
            [
             0.1111111111111111,
             "#46039f"
            ],
            [
             0.2222222222222222,
             "#7201a8"
            ],
            [
             0.3333333333333333,
             "#9c179e"
            ],
            [
             0.4444444444444444,
             "#bd3786"
            ],
            [
             0.5555555555555556,
             "#d8576b"
            ],
            [
             0.6666666666666666,
             "#ed7953"
            ],
            [
             0.7777777777777778,
             "#fb9f3a"
            ],
            [
             0.8888888888888888,
             "#fdca26"
            ],
            [
             1,
             "#f0f921"
            ]
           ]
          },
          "colorway": [
           "#636efa",
           "#EF553B",
           "#00cc96",
           "#ab63fa",
           "#FFA15A",
           "#19d3f3",
           "#FF6692",
           "#B6E880",
           "#FF97FF",
           "#FECB52"
          ],
          "font": {
           "color": "#2a3f5f"
          },
          "geo": {
           "bgcolor": "white",
           "lakecolor": "white",
           "landcolor": "#E5ECF6",
           "showlakes": true,
           "showland": true,
           "subunitcolor": "white"
          },
          "hoverlabel": {
           "align": "left"
          },
          "hovermode": "closest",
          "mapbox": {
           "style": "light"
          },
          "paper_bgcolor": "white",
          "plot_bgcolor": "#E5ECF6",
          "polar": {
           "angularaxis": {
            "gridcolor": "white",
            "linecolor": "white",
            "ticks": ""
           },
           "bgcolor": "#E5ECF6",
           "radialaxis": {
            "gridcolor": "white",
            "linecolor": "white",
            "ticks": ""
           }
          },
          "scene": {
           "xaxis": {
            "backgroundcolor": "#E5ECF6",
            "gridcolor": "white",
            "gridwidth": 2,
            "linecolor": "white",
            "showbackground": true,
            "ticks": "",
            "zerolinecolor": "white"
           },
           "yaxis": {
            "backgroundcolor": "#E5ECF6",
            "gridcolor": "white",
            "gridwidth": 2,
            "linecolor": "white",
            "showbackground": true,
            "ticks": "",
            "zerolinecolor": "white"
           },
           "zaxis": {
            "backgroundcolor": "#E5ECF6",
            "gridcolor": "white",
            "gridwidth": 2,
            "linecolor": "white",
            "showbackground": true,
            "ticks": "",
            "zerolinecolor": "white"
           }
          },
          "shapedefaults": {
           "line": {
            "color": "#2a3f5f"
           }
          },
          "ternary": {
           "aaxis": {
            "gridcolor": "white",
            "linecolor": "white",
            "ticks": ""
           },
           "baxis": {
            "gridcolor": "white",
            "linecolor": "white",
            "ticks": ""
           },
           "bgcolor": "#E5ECF6",
           "caxis": {
            "gridcolor": "white",
            "linecolor": "white",
            "ticks": ""
           }
          },
          "title": {
           "x": 0.05
          },
          "xaxis": {
           "automargin": true,
           "gridcolor": "white",
           "linecolor": "white",
           "ticks": "",
           "title": {
            "standoff": 15
           },
           "zerolinecolor": "white",
           "zerolinewidth": 2
          },
          "yaxis": {
           "automargin": true,
           "gridcolor": "white",
           "linecolor": "white",
           "ticks": "",
           "title": {
            "standoff": 15
           },
           "zerolinecolor": "white",
           "zerolinewidth": 2
          }
         }
        },
        "title": {
         "text": "All Tree Splits"
        },
        "width": 600,
        "xaxis": {
         "anchor": "y",
         "domain": [
          0,
          1
         ],
         "title": {
          "text": "x1"
         }
        },
        "yaxis": {
         "anchor": "x",
         "domain": [
          0,
          1
         ],
         "title": {
          "text": "x2"
         }
        }
       }
      }
     },
     "metadata": {},
     "output_type": "display_data"
    },
    {
     "name": "stdout",
     "output_type": "stream",
     "text": [
      "Accuracy: 0.95\n",
      "Misclassification Rate: 0.05\n"
     ]
    }
   ],
   "source": [
    "tree_Testmodel_limited_features = build_tree(df, features=['x1', 'x2'], max_depth=3, min_samples=5, max_feature_usage=2)\n",
    "\n",
    "# Print split history\n",
    "for step in tree_Testmodel_limited_features['history']:\n",
    "    print(f\"Depth {step['depth']}: Split on {step['feature']} < {step['threshold']:.2f} (Gini = {step['gini']:.3f}, Samples = {step['samples']})\")\n",
    "\n",
    "plot_all_splits(df, tree_Testmodel_limited_features['history'])\n",
    "\n",
    "# Make predictions\n",
    "predictions = predict_tree(tree_Testmodel_limited_features, df)\n",
    "\n",
    "# Compare to actual\n",
    "actual = df['target']\n",
    "correct = (predictions == actual)\n",
    "\n",
    "accuracy = correct.mean()\n",
    "misclassification_rate = 1 - accuracy\n",
    "\n",
    "print(f\"Accuracy: {accuracy:.2f}\")\n",
    "print(f\"Misclassification Rate: {misclassification_rate:.2f}\")\n"
   ]
  },
  {
   "cell_type": "markdown",
   "metadata": {},
   "source": [
    "## Decision Tree Model without Feature Usage Limits\n",
    "\n",
    "In this implementation, I build a decision tree without restricting how many times a feature can be used for splits. The key points of this approach are:\n",
    "\n",
    "* **No limit on feature usage:** Unlike the previous model, any feature can be used repeatedly for splitting, regardless of how many times it has been used before.\n",
    "* **Base cases:** The recursion stops when the tree reaches the maximum depth, the node is pure (only one class left), or the number of samples falls below a minimum threshold.\n",
    "* **Best split selection:** At each step, the best split is found by evaluating all available features.\n",
    "* **Split history tracking:** The split information is recorded for later visualization or analysis, but no plotting is done inside the tree-building function itself.\n",
    "* **Recursive tree construction:** The tree is built recursively by splitting the data and calling the function on left and right subsets until base conditions are met.\n",
    "\n",
    "This design allows the tree to freely select the best features for splits without constraints, potentially resulting in deeper or more complex trees depending on the data.\n"
   ]
  },
  {
   "cell_type": "code",
   "execution_count": 23,
   "metadata": {},
   "outputs": [],
   "source": [
    "# Tree Builder Function (No Plotting Inside)\n",
    "def build_tree_without_feature_limit(df, features, target_col='target', depth=0, max_depth=3, min_samples=5, split_history=None):\n",
    "    if split_history is None:\n",
    "        split_history = []\n",
    "\n",
    "    # Base cases\n",
    "    if (depth >= max_depth or \n",
    "        len(df[target_col].unique()) == 1 or \n",
    "        len(df) <= min_samples):\n",
    "        return {\n",
    "            'leaf': True,\n",
    "            'prediction': df[target_col].mode()[0],\n",
    "            'samples': len(df),\n",
    "            'depth': depth\n",
    "        }\n",
    "\n",
    "    # Find best split using all features\n",
    "    split = find_best_split(df, features, target_col)\n",
    "\n",
    "    if not split:\n",
    "        return {\n",
    "            'leaf': True,\n",
    "            'prediction': df[target_col].mode()[0],\n",
    "            'samples': len(df),\n",
    "            'depth': depth\n",
    "        }\n",
    "\n",
    "    # Save split info (no plotting here)\n",
    "    split_history.append({\n",
    "        'depth': depth,\n",
    "        'feature': split['feature'],\n",
    "        'threshold': split['threshold'],\n",
    "        'gini': split['gini'],\n",
    "        'samples': len(df),\n",
    "        'df': df.copy()  # Needed for boundary-limited plotting\n",
    "    })\n",
    "\n",
    "    # Recursive tree building\n",
    "    left_subtree = build_tree_without_feature_limit(\n",
    "        split['left'], features, target_col, depth + 1, max_depth, min_samples, split_history\n",
    "    )\n",
    "    right_subtree = build_tree_without_feature_limit(\n",
    "        split['right'], features, target_col, depth + 1, max_depth, min_samples, split_history\n",
    "    )\n",
    "\n",
    "    return {\n",
    "        'leaf': False,\n",
    "        'feature': split['feature'],\n",
    "        'threshold': split['threshold'],\n",
    "        'gini': split['gini'],\n",
    "        'depth': depth,\n",
    "        'samples': len(df),\n",
    "        'left': left_subtree,\n",
    "        'right': right_subtree,\n",
    "        'history': split_history\n",
    "    }\n"
   ]
  },
  {
   "cell_type": "markdown",
   "metadata": {},
   "source": [
    "## Applying the Tree Model Without Feature Usage Limit\n",
    "\n",
    "- **Build the tree** using the `build_tree_without_feature_limit` function with features `x1` and `x2`, a maximum depth of 3, and a minimum sample size of 5:\n",
    "  ```python\n",
    "  tree_Testmodel_Without_features_Limit = build_tree_without_feature_limit(df, features=['x1', 'x2'], max_depth=3, min_samples=5)\n"
   ]
  },
  {
   "cell_type": "code",
   "execution_count": 24,
   "metadata": {},
   "outputs": [
    {
     "name": "stdout",
     "output_type": "stream",
     "text": [
      "Depth 0: Split on x1 < -0.39 (Gini = 0.286, Samples = 20)\n",
      "Depth 1: Split on x2 < 1.43 (Gini = 0.190, Samples = 14)\n",
      "Depth 2: Split on x1 < -0.26 (Gini = 0.267, Samples = 6)\n"
     ]
    },
    {
     "data": {
      "application/vnd.plotly.v1+json": {
       "config": {
        "plotlyServerURL": "https://plot.ly"
       },
       "data": [
        {
         "hovertemplate": "Target=0<br>x1=%{x}<br>x2=%{y}<extra></extra>",
         "legendgroup": "0",
         "marker": {
          "color": "blue",
          "opacity": 0.7,
          "symbol": "circle"
         },
         "mode": "markers",
         "name": "0",
         "orientation": "v",
         "showlegend": true,
         "type": "scatter",
         "x": [
          0.9310592910163531,
          -1.1070985440872043,
          1.0318717970645697,
          -2.0008971149951646,
          -0.5943300639069704,
          -2.918322213264675,
          0.5410767099339262,
          -0.45224702244842907,
          -2.9977325735961315,
          -0.19499792411939754
         ],
         "xaxis": "x",
         "y": [
          2.2452383175024933,
          1.0959189512504888,
          2.045483001337027,
          0.187707856602085,
          1.2241665271293902,
          0.07412892669247251,
          1.5212627005749821,
          1.506057080827878,
          -0.22831066020696422,
          1.4444715649659836
         ],
         "yaxis": "y"
        },
        {
         "hovertemplate": "Target=1<br>x1=%{x}<br>x2=%{y}<extra></extra>",
         "legendgroup": "1",
         "marker": {
          "color": "red",
          "opacity": 0.7,
          "symbol": "circle"
         },
         "mode": "markers",
         "name": "1",
         "orientation": "v",
         "showlegend": true,
         "type": "scatter",
         "x": [
          0.014189940954244973,
          0.30758658290352225,
          2.3517938550341246,
          1.5032755106658438,
          -0.33493667352963596,
          0.9482541614944205,
          0.9419481002737845,
          1.425145886176355,
          0.04822881465439188,
          1.1941331523805405
         ],
         "xaxis": "x",
         "y": [
          0.9736122018475104,
          1.3091994507949198,
          0.7444962230107144,
          1.4187166092076169,
          1.4659187255974349,
          0.6132019305814576,
          1.3582415545723059,
          1.5509826178475783,
          1.3773000971799119,
          1.2171686901555545
         ],
         "yaxis": "y"
        }
       ],
       "layout": {
        "coloraxis": {
         "showscale": false
        },
        "height": 600,
        "legend": {
         "title": {
          "text": "Target"
         },
         "tracegroupgap": 0
        },
        "shapes": [
         {
          "line": {
           "color": "green",
           "dash": "dash"
          },
          "type": "line",
          "x0": -0.3935918479890325,
          "x1": -0.3935918479890325,
          "y0": -0.22831066020696422,
          "y1": 2.2452383175024933
         },
         {
          "line": {
           "color": "purple",
           "dash": "dash"
          },
          "type": "line",
          "x0": -0.33493667352963596,
          "x1": 2.3517938550341246,
          "y0": 1.4315940870868002,
          "y1": 1.4315940870868002
         },
         {
          "line": {
           "color": "green",
           "dash": "dash"
          },
          "type": "line",
          "x0": -0.26496729882451675,
          "x1": -0.26496729882451675,
          "y0": 1.4444715649659836,
          "y1": 2.2452383175024933
         }
        ],
        "showlegend": true,
        "template": {
         "data": {
          "bar": [
           {
            "error_x": {
             "color": "#2a3f5f"
            },
            "error_y": {
             "color": "#2a3f5f"
            },
            "marker": {
             "line": {
              "color": "#E5ECF6",
              "width": 0.5
             },
             "pattern": {
              "fillmode": "overlay",
              "size": 10,
              "solidity": 0.2
             }
            },
            "type": "bar"
           }
          ],
          "barpolar": [
           {
            "marker": {
             "line": {
              "color": "#E5ECF6",
              "width": 0.5
             },
             "pattern": {
              "fillmode": "overlay",
              "size": 10,
              "solidity": 0.2
             }
            },
            "type": "barpolar"
           }
          ],
          "carpet": [
           {
            "aaxis": {
             "endlinecolor": "#2a3f5f",
             "gridcolor": "white",
             "linecolor": "white",
             "minorgridcolor": "white",
             "startlinecolor": "#2a3f5f"
            },
            "baxis": {
             "endlinecolor": "#2a3f5f",
             "gridcolor": "white",
             "linecolor": "white",
             "minorgridcolor": "white",
             "startlinecolor": "#2a3f5f"
            },
            "type": "carpet"
           }
          ],
          "choropleth": [
           {
            "colorbar": {
             "outlinewidth": 0,
             "ticks": ""
            },
            "type": "choropleth"
           }
          ],
          "contour": [
           {
            "colorbar": {
             "outlinewidth": 0,
             "ticks": ""
            },
            "colorscale": [
             [
              0,
              "#0d0887"
             ],
             [
              0.1111111111111111,
              "#46039f"
             ],
             [
              0.2222222222222222,
              "#7201a8"
             ],
             [
              0.3333333333333333,
              "#9c179e"
             ],
             [
              0.4444444444444444,
              "#bd3786"
             ],
             [
              0.5555555555555556,
              "#d8576b"
             ],
             [
              0.6666666666666666,
              "#ed7953"
             ],
             [
              0.7777777777777778,
              "#fb9f3a"
             ],
             [
              0.8888888888888888,
              "#fdca26"
             ],
             [
              1,
              "#f0f921"
             ]
            ],
            "type": "contour"
           }
          ],
          "contourcarpet": [
           {
            "colorbar": {
             "outlinewidth": 0,
             "ticks": ""
            },
            "type": "contourcarpet"
           }
          ],
          "heatmap": [
           {
            "colorbar": {
             "outlinewidth": 0,
             "ticks": ""
            },
            "colorscale": [
             [
              0,
              "#0d0887"
             ],
             [
              0.1111111111111111,
              "#46039f"
             ],
             [
              0.2222222222222222,
              "#7201a8"
             ],
             [
              0.3333333333333333,
              "#9c179e"
             ],
             [
              0.4444444444444444,
              "#bd3786"
             ],
             [
              0.5555555555555556,
              "#d8576b"
             ],
             [
              0.6666666666666666,
              "#ed7953"
             ],
             [
              0.7777777777777778,
              "#fb9f3a"
             ],
             [
              0.8888888888888888,
              "#fdca26"
             ],
             [
              1,
              "#f0f921"
             ]
            ],
            "type": "heatmap"
           }
          ],
          "heatmapgl": [
           {
            "colorbar": {
             "outlinewidth": 0,
             "ticks": ""
            },
            "colorscale": [
             [
              0,
              "#0d0887"
             ],
             [
              0.1111111111111111,
              "#46039f"
             ],
             [
              0.2222222222222222,
              "#7201a8"
             ],
             [
              0.3333333333333333,
              "#9c179e"
             ],
             [
              0.4444444444444444,
              "#bd3786"
             ],
             [
              0.5555555555555556,
              "#d8576b"
             ],
             [
              0.6666666666666666,
              "#ed7953"
             ],
             [
              0.7777777777777778,
              "#fb9f3a"
             ],
             [
              0.8888888888888888,
              "#fdca26"
             ],
             [
              1,
              "#f0f921"
             ]
            ],
            "type": "heatmapgl"
           }
          ],
          "histogram": [
           {
            "marker": {
             "pattern": {
              "fillmode": "overlay",
              "size": 10,
              "solidity": 0.2
             }
            },
            "type": "histogram"
           }
          ],
          "histogram2d": [
           {
            "colorbar": {
             "outlinewidth": 0,
             "ticks": ""
            },
            "colorscale": [
             [
              0,
              "#0d0887"
             ],
             [
              0.1111111111111111,
              "#46039f"
             ],
             [
              0.2222222222222222,
              "#7201a8"
             ],
             [
              0.3333333333333333,
              "#9c179e"
             ],
             [
              0.4444444444444444,
              "#bd3786"
             ],
             [
              0.5555555555555556,
              "#d8576b"
             ],
             [
              0.6666666666666666,
              "#ed7953"
             ],
             [
              0.7777777777777778,
              "#fb9f3a"
             ],
             [
              0.8888888888888888,
              "#fdca26"
             ],
             [
              1,
              "#f0f921"
             ]
            ],
            "type": "histogram2d"
           }
          ],
          "histogram2dcontour": [
           {
            "colorbar": {
             "outlinewidth": 0,
             "ticks": ""
            },
            "colorscale": [
             [
              0,
              "#0d0887"
             ],
             [
              0.1111111111111111,
              "#46039f"
             ],
             [
              0.2222222222222222,
              "#7201a8"
             ],
             [
              0.3333333333333333,
              "#9c179e"
             ],
             [
              0.4444444444444444,
              "#bd3786"
             ],
             [
              0.5555555555555556,
              "#d8576b"
             ],
             [
              0.6666666666666666,
              "#ed7953"
             ],
             [
              0.7777777777777778,
              "#fb9f3a"
             ],
             [
              0.8888888888888888,
              "#fdca26"
             ],
             [
              1,
              "#f0f921"
             ]
            ],
            "type": "histogram2dcontour"
           }
          ],
          "mesh3d": [
           {
            "colorbar": {
             "outlinewidth": 0,
             "ticks": ""
            },
            "type": "mesh3d"
           }
          ],
          "parcoords": [
           {
            "line": {
             "colorbar": {
              "outlinewidth": 0,
              "ticks": ""
             }
            },
            "type": "parcoords"
           }
          ],
          "pie": [
           {
            "automargin": true,
            "type": "pie"
           }
          ],
          "scatter": [
           {
            "fillpattern": {
             "fillmode": "overlay",
             "size": 10,
             "solidity": 0.2
            },
            "type": "scatter"
           }
          ],
          "scatter3d": [
           {
            "line": {
             "colorbar": {
              "outlinewidth": 0,
              "ticks": ""
             }
            },
            "marker": {
             "colorbar": {
              "outlinewidth": 0,
              "ticks": ""
             }
            },
            "type": "scatter3d"
           }
          ],
          "scattercarpet": [
           {
            "marker": {
             "colorbar": {
              "outlinewidth": 0,
              "ticks": ""
             }
            },
            "type": "scattercarpet"
           }
          ],
          "scattergeo": [
           {
            "marker": {
             "colorbar": {
              "outlinewidth": 0,
              "ticks": ""
             }
            },
            "type": "scattergeo"
           }
          ],
          "scattergl": [
           {
            "marker": {
             "colorbar": {
              "outlinewidth": 0,
              "ticks": ""
             }
            },
            "type": "scattergl"
           }
          ],
          "scattermapbox": [
           {
            "marker": {
             "colorbar": {
              "outlinewidth": 0,
              "ticks": ""
             }
            },
            "type": "scattermapbox"
           }
          ],
          "scatterpolar": [
           {
            "marker": {
             "colorbar": {
              "outlinewidth": 0,
              "ticks": ""
             }
            },
            "type": "scatterpolar"
           }
          ],
          "scatterpolargl": [
           {
            "marker": {
             "colorbar": {
              "outlinewidth": 0,
              "ticks": ""
             }
            },
            "type": "scatterpolargl"
           }
          ],
          "scatterternary": [
           {
            "marker": {
             "colorbar": {
              "outlinewidth": 0,
              "ticks": ""
             }
            },
            "type": "scatterternary"
           }
          ],
          "surface": [
           {
            "colorbar": {
             "outlinewidth": 0,
             "ticks": ""
            },
            "colorscale": [
             [
              0,
              "#0d0887"
             ],
             [
              0.1111111111111111,
              "#46039f"
             ],
             [
              0.2222222222222222,
              "#7201a8"
             ],
             [
              0.3333333333333333,
              "#9c179e"
             ],
             [
              0.4444444444444444,
              "#bd3786"
             ],
             [
              0.5555555555555556,
              "#d8576b"
             ],
             [
              0.6666666666666666,
              "#ed7953"
             ],
             [
              0.7777777777777778,
              "#fb9f3a"
             ],
             [
              0.8888888888888888,
              "#fdca26"
             ],
             [
              1,
              "#f0f921"
             ]
            ],
            "type": "surface"
           }
          ],
          "table": [
           {
            "cells": {
             "fill": {
              "color": "#EBF0F8"
             },
             "line": {
              "color": "white"
             }
            },
            "header": {
             "fill": {
              "color": "#C8D4E3"
             },
             "line": {
              "color": "white"
             }
            },
            "type": "table"
           }
          ]
         },
         "layout": {
          "annotationdefaults": {
           "arrowcolor": "#2a3f5f",
           "arrowhead": 0,
           "arrowwidth": 1
          },
          "autotypenumbers": "strict",
          "coloraxis": {
           "colorbar": {
            "outlinewidth": 0,
            "ticks": ""
           }
          },
          "colorscale": {
           "diverging": [
            [
             0,
             "#8e0152"
            ],
            [
             0.1,
             "#c51b7d"
            ],
            [
             0.2,
             "#de77ae"
            ],
            [
             0.3,
             "#f1b6da"
            ],
            [
             0.4,
             "#fde0ef"
            ],
            [
             0.5,
             "#f7f7f7"
            ],
            [
             0.6,
             "#e6f5d0"
            ],
            [
             0.7,
             "#b8e186"
            ],
            [
             0.8,
             "#7fbc41"
            ],
            [
             0.9,
             "#4d9221"
            ],
            [
             1,
             "#276419"
            ]
           ],
           "sequential": [
            [
             0,
             "#0d0887"
            ],
            [
             0.1111111111111111,
             "#46039f"
            ],
            [
             0.2222222222222222,
             "#7201a8"
            ],
            [
             0.3333333333333333,
             "#9c179e"
            ],
            [
             0.4444444444444444,
             "#bd3786"
            ],
            [
             0.5555555555555556,
             "#d8576b"
            ],
            [
             0.6666666666666666,
             "#ed7953"
            ],
            [
             0.7777777777777778,
             "#fb9f3a"
            ],
            [
             0.8888888888888888,
             "#fdca26"
            ],
            [
             1,
             "#f0f921"
            ]
           ],
           "sequentialminus": [
            [
             0,
             "#0d0887"
            ],
            [
             0.1111111111111111,
             "#46039f"
            ],
            [
             0.2222222222222222,
             "#7201a8"
            ],
            [
             0.3333333333333333,
             "#9c179e"
            ],
            [
             0.4444444444444444,
             "#bd3786"
            ],
            [
             0.5555555555555556,
             "#d8576b"
            ],
            [
             0.6666666666666666,
             "#ed7953"
            ],
            [
             0.7777777777777778,
             "#fb9f3a"
            ],
            [
             0.8888888888888888,
             "#fdca26"
            ],
            [
             1,
             "#f0f921"
            ]
           ]
          },
          "colorway": [
           "#636efa",
           "#EF553B",
           "#00cc96",
           "#ab63fa",
           "#FFA15A",
           "#19d3f3",
           "#FF6692",
           "#B6E880",
           "#FF97FF",
           "#FECB52"
          ],
          "font": {
           "color": "#2a3f5f"
          },
          "geo": {
           "bgcolor": "white",
           "lakecolor": "white",
           "landcolor": "#E5ECF6",
           "showlakes": true,
           "showland": true,
           "subunitcolor": "white"
          },
          "hoverlabel": {
           "align": "left"
          },
          "hovermode": "closest",
          "mapbox": {
           "style": "light"
          },
          "paper_bgcolor": "white",
          "plot_bgcolor": "#E5ECF6",
          "polar": {
           "angularaxis": {
            "gridcolor": "white",
            "linecolor": "white",
            "ticks": ""
           },
           "bgcolor": "#E5ECF6",
           "radialaxis": {
            "gridcolor": "white",
            "linecolor": "white",
            "ticks": ""
           }
          },
          "scene": {
           "xaxis": {
            "backgroundcolor": "#E5ECF6",
            "gridcolor": "white",
            "gridwidth": 2,
            "linecolor": "white",
            "showbackground": true,
            "ticks": "",
            "zerolinecolor": "white"
           },
           "yaxis": {
            "backgroundcolor": "#E5ECF6",
            "gridcolor": "white",
            "gridwidth": 2,
            "linecolor": "white",
            "showbackground": true,
            "ticks": "",
            "zerolinecolor": "white"
           },
           "zaxis": {
            "backgroundcolor": "#E5ECF6",
            "gridcolor": "white",
            "gridwidth": 2,
            "linecolor": "white",
            "showbackground": true,
            "ticks": "",
            "zerolinecolor": "white"
           }
          },
          "shapedefaults": {
           "line": {
            "color": "#2a3f5f"
           }
          },
          "ternary": {
           "aaxis": {
            "gridcolor": "white",
            "linecolor": "white",
            "ticks": ""
           },
           "baxis": {
            "gridcolor": "white",
            "linecolor": "white",
            "ticks": ""
           },
           "bgcolor": "#E5ECF6",
           "caxis": {
            "gridcolor": "white",
            "linecolor": "white",
            "ticks": ""
           }
          },
          "title": {
           "x": 0.05
          },
          "xaxis": {
           "automargin": true,
           "gridcolor": "white",
           "linecolor": "white",
           "ticks": "",
           "title": {
            "standoff": 15
           },
           "zerolinecolor": "white",
           "zerolinewidth": 2
          },
          "yaxis": {
           "automargin": true,
           "gridcolor": "white",
           "linecolor": "white",
           "ticks": "",
           "title": {
            "standoff": 15
           },
           "zerolinecolor": "white",
           "zerolinewidth": 2
          }
         }
        },
        "title": {
         "text": "All Tree Splits"
        },
        "width": 600,
        "xaxis": {
         "anchor": "y",
         "domain": [
          0,
          1
         ],
         "title": {
          "text": "x1"
         }
        },
        "yaxis": {
         "anchor": "x",
         "domain": [
          0,
          1
         ],
         "title": {
          "text": "x2"
         }
        }
       }
      }
     },
     "metadata": {},
     "output_type": "display_data"
    },
    {
     "name": "stdout",
     "output_type": "stream",
     "text": [
      "Accuracy of tree model 2: 0.95\n",
      "Misclassification Rate of tree model 2 : 0.05\n"
     ]
    }
   ],
   "source": [
    "# Build tree\n",
    "tree_Testmodel_Without_features_Limit = build_tree_without_feature_limit(df, features=['x1', 'x2'], max_depth=3, min_samples=5)\n",
    "\n",
    "# Print splits\n",
    "for step in tree_Testmodel_Without_features_Limit['history']:\n",
    "    print(f\"Depth {step['depth']}: Split on {step['feature']} < {step['threshold']:.2f} \"\n",
    "          f\"(Gini = {step['gini']:.3f}, Samples = {step['samples']})\")\n",
    "\n",
    "# Plot all splits in one figure\n",
    "plot_all_splits(df, tree_Testmodel_Without_features_Limit['history'])\n",
    "\n",
    "# Make predictions\n",
    "predictions = predict_tree(tree_Testmodel_Without_features_Limit, df)\n",
    "\n",
    "# Compare to actual\n",
    "actual = df['target']\n",
    "correct = (predictions == actual)\n",
    "\n",
    "accuracy = correct.mean()\n",
    "misclassification_rate = 1 - accuracy\n",
    "\n",
    "print(f\"Accuracy of tree model 2: {accuracy:.2f}\")\n",
    "print(f\"Misclassification Rate of tree model 2 : {misclassification_rate:.2f}\")\n",
    "\n"
   ]
  },
  {
   "cell_type": "markdown",
   "metadata": {},
   "source": [
    "### Comparing Tree Models With and Without Feature Usage Limits\n",
    "\n",
    "**Results on the Randomly Generated Dataset:**\n",
    "Depth 0: Split on x1 < -0.39 (Gini = 0.286, Samples = 20)\n",
    "Depth 1: Split on x2 < 1.43 (Gini = 0.190, Samples = 14)\n",
    "Depth 2: Split on x1 < -0.26 (Gini = 0.267, Samples = 6)\n",
    "\n",
    "Accuracy of tree model 2: 0.95\n",
    "Misclassification Rate of tree model 2 : 0.05\n",
    "\n",
    "### Explanation:\n",
    "\n",
    "- Both tree models — **one with a limit on how many times a feature can be used for splitting** (`max_feature_usage=2`), and **the other without any such limit** — produced **identical splits and performance** on this dataset.\n",
    "  \n",
    "- This indicates that **imposing a limit on feature usage did not affect the final tree structure or its accuracy** for this particular data.\n",
    "\n",
    "- In practice, limiting feature usage can help **prevent overfitting** and promote model interpretability by forcing the tree to use a broader range of features, but on some datasets, the most informative splits naturally come from a limited number of features anyway.\n",
    "\n",
    "- Since both methods gave the same result here, it means:\n",
    "  - The dataset’s structure favors splits on the same features regardless of usage constraints.\n",
    "  - Both approaches are **valid and correct** ways of building the decision tree model.\n",
    "  - Applying feature usage limits **does not always change the model outcome**, but it is a useful tool to control complexity on other datasets.\n",
    "\n",
    "\n",
    "**Summary:**  \n",
    "Both approaches to building the decision tree — with and without limiting feature usage — are correct, and in this case, they lead to the same model and prediction accuracy. This confirms that the feature usage limit is a flexible option that can be enabled or disabled depending on the specific needs of your dataset and modeling goals.\n"
   ]
  },
  {
   "cell_type": "markdown",
   "metadata": {},
   "source": [
    "---\n",
    "# When Limiting Feature Usage in Tree Models Can Harm Accuracy\n",
    "\n",
    "In the previous example, limiting the number of times a feature could be used in splits **did not affect** the tree structure or accuracy. However, this is not always the case.\n",
    "\n",
    "\n",
    "## New Dataset: Vertical Stripes Classification\n",
    "\n",
    "I generate a synthetic dataset with **vertical stripes of class labels** along the `x1` feature, with the following characteristics:\n",
    "\n",
    "- The feature `x1` is divided into 8 equal-width stripes.\n",
    "- Only stripes 2 and 6 belong to the positive class (`target = 1`).\n",
    "- All other stripes belong to the negative class (`target = 0`).\n",
    "- The `x2` feature varies randomly but does **not** directly influence the class.\n",
    "- Both `x1` and `x2` are normalized between 0 and 1 for consistent scaling.\n"
   ]
  },
  {
   "cell_type": "code",
   "execution_count": 25,
   "metadata": {},
   "outputs": [],
   "source": [
    "# Settings\n",
    "np.random.seed(42)\n",
    "n_stripes = 8  # one extra stripe to allow rightmost blue\n",
    "samples_per_stripe = 50\n",
    "data = []\n",
    "\n",
    "# Generate main stripes\n",
    "for stripe in range(n_stripes):\n",
    "    x1_start = stripe\n",
    "    x1_end = stripe + 1\n",
    "\n",
    "    x1_vals = np.random.uniform(x1_start, x1_end, samples_per_stripe)\n",
    "    x2_vals = np.random.uniform(0, 7, samples_per_stripe)\n",
    "\n",
    "    # Target: red stripes (1) at stripes 2 and 6, rest are blue (0)\n",
    "    if stripe in [2, 6]:\n",
    "        target_vals = np.ones(samples_per_stripe)\n",
    "    else:\n",
    "        target_vals = np.zeros(samples_per_stripe)\n",
    "\n",
    "    for x1, x2, t in zip(x1_vals, x2_vals, target_vals):\n",
    "        data.append([x1, x2, int(t)])\n",
    "\n",
    "# Create DataFrame\n",
    "df_stripes = pd.DataFrame(data, columns=['x1', 'x2', 'target'])\n",
    "\n",
    "# Normalize to 0-1 for consistency if needed by algorithm\n",
    "df_stripes['x1'] = df_stripes['x1'] / df_stripes['x1'].max()\n",
    "df_stripes['x2'] = df_stripes['x2'] / df_stripes['x2'].max()\n",
    "\n",
    "\n"
   ]
  },
  {
   "cell_type": "code",
   "execution_count": 26,
   "metadata": {},
   "outputs": [
    {
     "data": {
      "application/vnd.plotly.v1+json": {
       "config": {
        "plotlyServerURL": "https://plot.ly"
       },
       "data": [
        {
         "hovertemplate": "Target=0<br>x1=%{x}<br>x2=%{y}<extra></extra>",
         "legendgroup": "0",
         "marker": {
          "color": "#636efa",
          "symbol": "circle"
         },
         "mode": "markers",
         "name": "0",
         "orientation": "v",
         "showlegend": true,
         "type": "scatter",
         "x": [
          0.04687634330506932,
          0.11898861555729419,
          0.09161421590610998,
          0.0749263409059505,
          0.01952683566683641,
          0.019523816865048626,
          0.007269574626008567,
          0.10840806719708113,
          0.0752337926922828,
          0.08862028811177798,
          0.0025762949623148804,
          0.12139107379159962,
          0.10418608060473697,
          0.026575740617267325,
          0.022756679873075336,
          0.022954370800237902,
          0.03807806723820617,
          0.06567697665189423,
          0.05406097228007266,
          0.036449385444679475,
          0.07657771464769392,
          0.017458642670905588,
          0.0365639677843343,
          0.04585277431150694,
          0.05708038224873829,
          0.09827032157307157,
          0.024990585228311407,
          0.06436007482602883,
          0.07414487076675227,
          0.005813597485966904,
          0.07603853263731582,
          0.021342299426725005,
          0.008141666678336067,
          0.11875973217071994,
          0.12085567449510583,
          0.10117664226154158,
          0.03812456636999494,
          0.01222435546180038,
          0.08563659975908167,
          0.05508819580294,
          0.015273947716292315,
          0.06197489045113227,
          0.004303966492325351,
          0.11380787583804876,
          0.03238814387973631,
          0.08291934691592442,
          0.03901284449774694,
          0.06509018894356235,
          0.0684246558733808,
          0.02313584175002003,
          0.1290906532307251,
          0.2048083299125883,
          0.16450094153762496,
          0.18880828530900726,
          0.2387454278174179,
          0.15635775308173075,
          0.17651939208885875,
          0.21971963407606732,
          0.15379277615303802,
          0.13479164833172746,
          0.16142151092133528,
          0.1453350521754301,
          0.2415153012301495,
          0.22629904617479862,
          0.20443202581771075,
          0.23422652125365198,
          0.22574230965347403,
          0.14850763012259832,
          0.23686713618646862,
          0.19265956239374232,
          0.2262139112829381,
          0.23730922867889384,
          0.16495745118090838,
          0.13893084474034229,
          0.15368476523376182,
          0.17861262723699212,
          0.22753739856583632,
          0.2328835850412943,
          0.12602717676230446,
          0.18908070361267282,
          0.1773990059929003,
          0.1529554309314973,
          0.1401590664736901,
          0.16741199361433148,
          0.24316888287332047,
          0.16560819998286283,
          0.19008738186035598,
          0.213144860470197,
          0.17066788353355886,
          0.24678246516518193,
          0.2456141504918488,
          0.15666940252729303,
          0.18739123379147665,
          0.1628141157127703,
          0.16080686974747907,
          0.12977373068155817,
          0.20144835357940777,
          0.18807090142166857,
          0.1315999980810258,
          0.16003164309294,
          0.3819395381716178,
          0.4419739934690331,
          0.44313551239679155,
          0.45525006329226547,
          0.46634666823718574,
          0.497605990996689,
          0.4400898435071941,
          0.41589149085755683,
          0.4749943784931071,
          0.40936777607511415,
          0.4304115816202224,
          0.38529057614864276,
          0.37864403018568205,
          0.4959534590189848,
          0.4801000266511706,
          0.46257729683194726,
          0.4266545571271997,
          0.39716021454109973,
          0.39505040711910244,
          0.40679087299942507,
          0.44421080474445374,
          0.4649079362925637,
          0.4580995737475527,
          0.410506911367299,
          0.4949793447820729,
          0.4678242203938597,
          0.44485253357114984,
          0.45203238078620817,
          0.42798711920558885,
          0.4064764898748064,
          0.42002370237672987,
          0.47032100300458285,
          0.3772726522980572,
          0.3899985168730735,
          0.3812287612739015,
          0.3805687029570398,
          0.48253814435541537,
          0.4635389603525212,
          0.43481741185689676,
          0.3877158422006791,
          0.4370004072063354,
          0.4347295442973169,
          0.3971486437499892,
          0.429770806032015,
          0.4253468897905663,
          0.4525491983544765,
          0.4549576650120973,
          0.38114132250957866,
          0.42235662212014063,
          0.45380199778912717,
          0.5135349550555414,
          0.6135891498940693,
          0.5638641797219874,
          0.6040652676270027,
          0.5406847437760531,
          0.6127093359802441,
          0.5493396151010969,
          0.5019846826297135,
          0.6139432279692302,
          0.5120534467994909,
          0.5405926327493659,
          0.6195352446166242,
          0.6196034777330471,
          0.5723980789770822,
          0.5797071671762665,
          0.5567544008473377,
          0.5373256745752144,
          0.5417629649547244,
          0.5847987124060318,
          0.5947932644485963,
          0.5996999865282931,
          0.5994545659161422,
          0.5120433624267157,
          0.5625084698773547,
          0.5078321596105058,
          0.5694056979008125,
          0.5558889371399077,
          0.611730727137336,
          0.5445477681996722,
          0.5152800385335728,
          0.5185246936846881,
          0.5959367122273168,
          0.5780026344304928,
          0.5132844916420902,
          0.511154835234188,
          0.5883595155332798,
          0.5097350785118933,
          0.6034898696671046,
          0.5890194807326058,
          0.5108096488511674,
          0.5112463135330702,
          0.6241131912379467,
          0.5474709095576681,
          0.5470167585251612,
          0.6023558850452382,
          0.6191831290134026,
          0.6240332766126253,
          0.5949188790689536,
          0.5477198206557149,
          0.5110789788596004,
          0.7131652158818467,
          0.6928815920637156,
          0.6645249114961052,
          0.7276375414409209,
          0.7114842886838086,
          0.646138001840925,
          0.739794318441279,
          0.7287316924707071,
          0.7446595152216707,
          0.716614268638943,
          0.7025585901141229,
          0.6781314147629895,
          0.7425229050957898,
          0.7341793599573098,
          0.6314447786177617,
          0.6290853556593701,
          0.6729023938170278,
          0.7272318211581121,
          0.7493499285570334,
          0.6446110795676567,
          0.700145001057011,
          0.6734565254552584,
          0.7471769851386221,
          0.731182478162125,
          0.7307081055351868,
          0.6844456043255152,
          0.677702935289578,
          0.6600041700524625,
          0.6328411343217001,
          0.734011460092187,
          0.7275256496979248,
          0.750907075727898,
          0.7505214872990926,
          0.695301546443479,
          0.7220295530125435,
          0.7440294515839209,
          0.7321247190898312,
          0.6567427057360482,
          0.6821741256251203,
          0.6419505561941037,
          0.745191572183552,
          0.7016523826644842,
          0.654401605693534,
          0.7098534309862699,
          0.7031484609501504,
          0.6706119382561826,
          0.6399978777704215,
          0.7098374748601629,
          0.6909055289819093,
          0.7224464482733767,
          0.942756811481457,
          0.8825855613442891,
          0.9182278840954139,
          0.8929224263241343,
          0.8840313049167682,
          1,
          0.9164443416490535,
          0.9774609908813722,
          0.9079695572644628,
          0.9613943622753488,
          0.9712473697216962,
          0.9506478780478045,
          0.9351205727234604,
          0.9276442808940302,
          0.9197628089251219,
          0.992436622162756,
          0.9800573695027573,
          0.9968794185454944,
          0.8916561555093667,
          0.9675727100447906,
          0.9935394202139268,
          0.8987820786709498,
          0.8844219572858947,
          0.9688559672561156,
          0.9479988501662725,
          0.9814603012626805,
          0.8935929803108233,
          0.9756328048116181,
          0.9013345637007764,
          0.8965821774463227,
          0.8966585051184952,
          0.9780492634434425,
          0.9593536135039558,
          0.9415648145871723,
          0.9210096508731107,
          0.9858873275589373,
          0.9252167585834677,
          0.978302671368051,
          0.9310603172232604,
          0.9232767391657376,
          0.9340071250188664,
          0.9138190506337682,
          0.9696680777920215,
          0.9390184896888124,
          0.9051625395866993,
          0.9886875958720084,
          0.9241461792813646,
          0.9441289620608753,
          0.9895508714690529,
          0.9542272770027844
         ],
         "xaxis": "x",
         "y": [
          0.9764541820151972,
          0.7806246771189517,
          0.9461553372646582,
          0.9011672457319818,
          0.6021361292442537,
          0.9284057588204343,
          0.08911947573344535,
          0.19737141053246232,
          0.04554772645243327,
          0.3276353119815713,
          0.3914310871931296,
          0.2732715528630831,
          0.8346091547160551,
          0.35928094136655264,
          0.2829249443538457,
          0.5465411113054666,
          0.14192267996360186,
          0.8078805853834713,
          0.0750788386165645,
          0.9938790785508846,
          0.777716161050966,
          0.2001235918038504,
          0.005561241592032172,
          0.8212390123414406,
          0.7118654625120177,
          0.7341722192872185,
          0.7767348346086591,
          0.07456926169333622,
          0.3610054756676434,
          0.11668999744801482,
          0.8692185556313473,
          0.6277142243748501,
          0.3332424534544055,
          0.06400866428943104,
          0.31318564659194525,
          0.32748726168100495,
          0.7347754736013875,
          0.6420745970520927,
          0.8934986880136401,
          0.4755605908763907,
          0.12044157698812614,
          0.7182981612344108,
          0.7661752476927616,
          0.5652538738161481,
          0.7764295199262358,
          0.49729416218403716,
          0.5264364169051468,
          0.4305701672702427,
          0.025599222493524525,
          0.10865584300165035,
          0.9147009939489632,
          0.2412591983152141,
          0.14592145930802425,
          0.49292055689228825,
          0.9926338355223816,
          0.2437702448843096,
          0.6768976604535377,
          0.7670157273503303,
          0.23932121755084715,
          0.7333757968639683,
          0.3703888941044247,
          0.6367857481602104,
          0.6380182995780436,
          0.5395706737727965,
          0.09092947746715523,
          0.8412206544016089,
          0.323052807335574,
          0.18784000311874585,
          0.04106403541608031,
          0.5950794484331836,
          0.6823649383042941,
          0.01670535450268188,
          0.5157212625267686,
          0.22810050878251426,
          0.6497438710122562,
          0.175601823636094,
          0.6958330655857942,
          0.3894753850408135,
          0.9433667662717324,
          0.1384952867246169,
          0.34348282273773667,
          0.11427748665820346,
          0.9312451175433866,
          0.8835553453755802,
          0.25976915669441825,
          0.6646600651035416,
          0.8230122592412935,
          0.5591344363559465,
          0.533403178467136,
          0.24356582614575814,
          0.09376240544454642,
          0.9035725752411571,
          0.9067975628968312,
          0.6375870118936257,
          0.34143183360950463,
          0.3516837414351847,
          0.7310991101672641,
          0.9034663297819404,
          0.8933714747310515,
          0.7854010020350463,
          0.5067010034458846,
          0.8625581133748661,
          0.6633605080394067,
          0.16408882542282377,
          0.07106873040839538,
          0.6469708500412252,
          0.026699144466383072,
          0.589925829760318,
          0.9468918184205123,
          0.5795514404185768,
          0.3909201290152134,
          0.6478459467611024,
          0.46149963451117104,
          0.5494825108083504,
          0.9481351327418182,
          0.3888381937705531,
          0.968000645723226,
          0.9117650952927537,
          0.19717832450303,
          0.0698527290657664,
          0.10149201841926994,
          0.018350928172644356,
          0.09511209372681677,
          0.687845909629103,
          0.07169302349735668,
          0.321235588150134,
          0.850861293644439,
          0.023436818532517084,
          0.820239031405783,
          0.28385172956276317,
          0.11900203117317693,
          0.701673582071726,
          0.6333989374426113,
          0.8836889454252399,
          0.7402790579048587,
          0.8091736318598689,
          0.2840328012368137,
          0.17869671157848807,
          0.7559328936679395,
          0.8125512026413536,
          0.997522919112299,
          0.4155410932230595,
          0.3746538520264789,
          0.7819138843354465,
          0.34321814991321387,
          0.9373517865297395,
          0.864494647945079,
          0.43203347092627103,
          0.7561910258309738,
          0.7598888470503513,
          0.7826530396290766,
          0.5623605710073082,
          0.4272276428176693,
          0.912775950000388,
          0.11198532187720324,
          0.4961153771172291,
          0.011434085892864805,
          0.47198112543943477,
          0.05670218712876983,
          0.11965974698442025,
          0.1183589259522798,
          0.6538099886857054,
          0.7513306435244349,
          0.5875019611743318,
          0.9689895877828695,
          0.3775265558142355,
          0.28773637031089033,
          0.874753195263432,
          0.225180025911602,
          0.9700470179860076,
          0.012240589734216554,
          0.9767504653721,
          0.0434657020261478,
          0.897456906005965,
          0.5314398971128266,
          1,
          0.07431941698619145,
          0.5577783689471079,
          0.9761700912331654,
          0.5268040178408308,
          0.6338579581019135,
          0.7006781022889618,
          0.4577615103216228,
          0.6320043596073924,
          0.5884542072455281,
          0.9075427588298093,
          0.04576837015679827,
          0.28295382745721614,
          0.9571451956715401,
          0.8965713461043537,
          0.4588851030434394,
          0.6245262674217007,
          0.27934644215504145,
          0.18945400729106954,
          0.4669837306943869,
          0.3558557457495191,
          0.5877913437937716,
          0.07828539064908134,
          0.9812984422753869,
          0.9931980955759019,
          0.5238488848193749,
          0.8582192477004534,
          0.555817125573278,
          0.5649122443490857,
          0.8828647360757178,
          0.4063415619458883,
          0.13496473286303634,
          0.028986602975077536,
          0.7604874398617578,
          0.6247044746981515,
          0.7090682075043389,
          0.21447302295229007,
          0.13733767412473838,
          0.014647715331626369,
          0.3530714887141633,
          0.5940972823610123,
          0.3950231132389571,
          0.4405744531260989,
          0.9105647028246887,
          0.3507228739471434,
          0.5176311296921923,
          0.7892052324551802,
          0.3993523072228104,
          0.6264942147587803,
          0.8684735975706595,
          0.9562480234632219,
          0.14811550369542778,
          0.9331525435572128,
          0.4956029609537261,
          0.26007406235168423,
          0.46238875540467617,
          0.9869761537525147,
          0.49610831715093723,
          0.33108083143766376,
          0.6378885301796998,
          0.24184706216849666,
          0.07640082347848842,
          0.12979284100940564,
          0.12895304995524565,
          0.15297893148474107,
          0.13981076992051858,
          0.6454153735438334,
          0.18316871364419723,
          0.3481163528403003,
          0.9031421994121397,
          0.47731968153876825,
          0.6722874175700616,
          0.1735407658711461,
          0.19365139586033028,
          0.04115817240067459,
          0.11772626901298451,
          0.94649087992497,
          0.6321553951606573,
          0.33727843722754564,
          0.14025882207273574,
          0.7996508963595698,
          0.6244660015660963,
          0.5372406897618035,
          0.9002258554829574,
          0.7941844608253205,
          0.15274950363348844,
          0.3139306338087903,
          0.25024969745716025,
          0.7492171882428903,
          0.033770013666980604,
          0.5739273810094339,
          0.7678607426169864,
          0.8829775639461944,
          0.3445054145452382,
          0.8270759526235433,
          0.11141556819292847,
          0.8524494473949312,
          0.12839192570595948,
          0.4001020903389962,
          0.8029442422284647,
          0.15097959961388385,
          0.23087565251920367,
          0.7273697629722321,
          0.7251380304318111,
          0.6456901950512516,
          0.6988651029514698,
          0.5465696724281354,
          0.25358306748742,
          0.3481452664333788,
          0.1828843454583132,
          0.9148869777498959,
          0.5875251540096176,
          0.40369146854978666,
          0.46527913723602415,
          0.9539948881511036,
          0.15443790526653844,
          0.5903832988922644,
          0.5094729247820037,
          0.615786418435306,
          0.018238495354134035,
          0.878302949261224,
          0.9387223858554825,
          0.5691371796843748,
          0.7015866288508306,
          0.929035334165524
         ],
         "yaxis": "y"
        },
        {
         "hovertemplate": "Target=1<br>x1=%{x}<br>x2=%{y}<extra></extra>",
         "legendgroup": "1",
         "marker": {
          "color": "#EF553B",
          "symbol": "circle"
         },
         "mode": "markers",
         "name": "1",
         "orientation": "v",
         "showlegend": true,
         "type": "scatter",
         "x": [
          0.3306689356780449,
          0.26084484833182253,
          0.2705431130097165,
          0.362774545081818,
          0.32621302032187444,
          0.2514652129896323,
          0.2630140178103794,
          0.3333560733269573,
          0.2509476299666723,
          0.2704404012748335,
          0.3189920494265355,
          0.3369097116128571,
          0.3319116969759122,
          0.2783830262938918,
          0.33944840055058356,
          0.28000753726249744,
          0.2910402092782003,
          0.34374281288462655,
          0.33162028620693906,
          0.3566004495171214,
          0.332619038769033,
          0.3214419757590261,
          0.2620381963029916,
          0.29633636891722126,
          0.2835060878649907,
          0.28085116547668526,
          0.3720932856086523,
          0.2995130958181178,
          0.36196006876895914,
          0.3293055972082405,
          0.3497903897208345,
          0.31322272205560237,
          0.3225177359682001,
          0.3119562077060934,
          0.2747501769657002,
          0.3407341258377164,
          0.28545478276537484,
          0.25335745204653454,
          0.33109955731480006,
          0.27248079040261186,
          0.36801917642002685,
          0.3697050412125784,
          0.364815882112164,
          0.29664211476888486,
          0.2522486417840414,
          0.36649976688454816,
          0.3039044097458542,
          0.37129782035927456,
          0.37091798843694357,
          0.3570742998071183,
          0.7720858281702513,
          0.785809961053325,
          0.7730965242150007,
          0.762044160004012,
          0.7660408428928819,
          0.8086121307390021,
          0.7767665342371001,
          0.7965333588580834,
          0.8139486407568218,
          0.837350203760419,
          0.755862603090157,
          0.8509942729558758,
          0.829528582961217,
          0.7611751316726773,
          0.8602769505963814,
          0.8661961010113378,
          0.7585867493162582,
          0.7855956056829676,
          0.8518441996997524,
          0.8445924002258931,
          0.7740365207683233,
          0.7771439585099634,
          0.7973096132527127,
          0.8115838873520125,
          0.8283213656935378,
          0.7971145605645539,
          0.8088319000556632,
          0.8444936823065341,
          0.7555335730481995,
          0.7825366788432438,
          0.8402231538862697,
          0.8629838744046808,
          0.8149824595770113,
          0.8175401748290604,
          0.76435574567472,
          0.8069392311474515,
          0.8176032266059222,
          0.7812893083408364,
          0.7846401044068944,
          0.7981621907518629,
          0.7534544631866098,
          0.791252895096341,
          0.7774066236045064,
          0.7919310194470446,
          0.7659314882458078,
          0.8623981947753463,
          0.8252347022735785,
          0.8359368663774496,
          0.8497127696687635,
          0.8133259753390853
         ],
         "xaxis": "x",
         "y": [
          0.29653507679260055,
          0.387826164741149,
          0.8571670162358873,
          0.31916741297865797,
          0.17069361104089806,
          0.5607462264870193,
          0.9427874762725285,
          0.7009612016409774,
          0.5741000812085937,
          0.09786499395603267,
          0.6193645828157631,
          0.997068429790851,
          0.14107651729849802,
          0.5220020431635339,
          0.8835893028201001,
          0.7460169994437591,
          0.7019541314247404,
          0.7074612178926724,
          0.3620381635126608,
          0.2956719567621203,
          0.8150955186343509,
          0.8158530874863454,
          0.8732155681337254,
          0.9197109062935493,
          0.5149652846297909,
          0.5050695620300164,
          0.803951139140751,
          0.6545689568431334,
          0.7069403467284303,
          0.8014308992083241,
          0.8963110729563427,
          0.3403898689787258,
          0.3782439761286556,
          0.09464780645614901,
          0.5823772839240678,
          0.036196926554910594,
          0.4688968027387354,
          0.5464892983400191,
          0.2885714108376686,
          0.5950193429596922,
          0.030716345693473063,
          0.03761280248320827,
          0.8284287256452003,
          0.36274260962620025,
          0.12796074256455212,
          0.5259433789554601,
          0.7754489948766516,
          0.21735012997471184,
          0.6273036851390679,
          0.08595215593475468,
          0.08753612255653483,
          0.5409119677934854,
          0.5909989158874196,
          0.7507209491188938,
          0.43471787511167453,
          0.1284842154466829,
          0.28578647189485057,
          0.3656547521298151,
          0.6504935964054028,
          0.5748222967215197,
          0.35861968852223314,
          0.9935047573171508,
          0.610066763418374,
          0.23890755509472536,
          0.10250360638986342,
          0.15394215362088898,
          0.24770035085408748,
          0.16181980860502784,
          0.18788886049177775,
          0.28711508183175727,
          0.17460195565072656,
          0.9031190512807291,
          0.08080220565241718,
          0.5282275782788546,
          0.41330450847157135,
          0.989338817194661,
          0.1128327032397545,
          0.4006744253176333,
          0.976339178452497,
          0.871639285981286,
          0.8228610663163051,
          0.25973008111956664,
          0.17209833425910742,
          0.673380589662009,
          0.9359606632176367,
          0.5607075851932188,
          0.5756625931794093,
          0.28196275915772334,
          0.7749448280535877,
          0.18836896261431094,
          0.3259725195387038,
          0.428450676478265,
          0.5112068229088234,
          0.24412721716063313,
          0.11565044922841997,
          0.6149463151443582,
          0.29067551474964687,
          0.5853563224942155,
          0.15545638262049352,
          0.4845490028802699
         ],
         "yaxis": "y"
        }
       ],
       "layout": {
        "legend": {
         "title": {
          "text": "Target"
         },
         "tracegroupgap": 0
        },
        "template": {
         "data": {
          "bar": [
           {
            "error_x": {
             "color": "#2a3f5f"
            },
            "error_y": {
             "color": "#2a3f5f"
            },
            "marker": {
             "line": {
              "color": "#E5ECF6",
              "width": 0.5
             },
             "pattern": {
              "fillmode": "overlay",
              "size": 10,
              "solidity": 0.2
             }
            },
            "type": "bar"
           }
          ],
          "barpolar": [
           {
            "marker": {
             "line": {
              "color": "#E5ECF6",
              "width": 0.5
             },
             "pattern": {
              "fillmode": "overlay",
              "size": 10,
              "solidity": 0.2
             }
            },
            "type": "barpolar"
           }
          ],
          "carpet": [
           {
            "aaxis": {
             "endlinecolor": "#2a3f5f",
             "gridcolor": "white",
             "linecolor": "white",
             "minorgridcolor": "white",
             "startlinecolor": "#2a3f5f"
            },
            "baxis": {
             "endlinecolor": "#2a3f5f",
             "gridcolor": "white",
             "linecolor": "white",
             "minorgridcolor": "white",
             "startlinecolor": "#2a3f5f"
            },
            "type": "carpet"
           }
          ],
          "choropleth": [
           {
            "colorbar": {
             "outlinewidth": 0,
             "ticks": ""
            },
            "type": "choropleth"
           }
          ],
          "contour": [
           {
            "colorbar": {
             "outlinewidth": 0,
             "ticks": ""
            },
            "colorscale": [
             [
              0,
              "#0d0887"
             ],
             [
              0.1111111111111111,
              "#46039f"
             ],
             [
              0.2222222222222222,
              "#7201a8"
             ],
             [
              0.3333333333333333,
              "#9c179e"
             ],
             [
              0.4444444444444444,
              "#bd3786"
             ],
             [
              0.5555555555555556,
              "#d8576b"
             ],
             [
              0.6666666666666666,
              "#ed7953"
             ],
             [
              0.7777777777777778,
              "#fb9f3a"
             ],
             [
              0.8888888888888888,
              "#fdca26"
             ],
             [
              1,
              "#f0f921"
             ]
            ],
            "type": "contour"
           }
          ],
          "contourcarpet": [
           {
            "colorbar": {
             "outlinewidth": 0,
             "ticks": ""
            },
            "type": "contourcarpet"
           }
          ],
          "heatmap": [
           {
            "colorbar": {
             "outlinewidth": 0,
             "ticks": ""
            },
            "colorscale": [
             [
              0,
              "#0d0887"
             ],
             [
              0.1111111111111111,
              "#46039f"
             ],
             [
              0.2222222222222222,
              "#7201a8"
             ],
             [
              0.3333333333333333,
              "#9c179e"
             ],
             [
              0.4444444444444444,
              "#bd3786"
             ],
             [
              0.5555555555555556,
              "#d8576b"
             ],
             [
              0.6666666666666666,
              "#ed7953"
             ],
             [
              0.7777777777777778,
              "#fb9f3a"
             ],
             [
              0.8888888888888888,
              "#fdca26"
             ],
             [
              1,
              "#f0f921"
             ]
            ],
            "type": "heatmap"
           }
          ],
          "heatmapgl": [
           {
            "colorbar": {
             "outlinewidth": 0,
             "ticks": ""
            },
            "colorscale": [
             [
              0,
              "#0d0887"
             ],
             [
              0.1111111111111111,
              "#46039f"
             ],
             [
              0.2222222222222222,
              "#7201a8"
             ],
             [
              0.3333333333333333,
              "#9c179e"
             ],
             [
              0.4444444444444444,
              "#bd3786"
             ],
             [
              0.5555555555555556,
              "#d8576b"
             ],
             [
              0.6666666666666666,
              "#ed7953"
             ],
             [
              0.7777777777777778,
              "#fb9f3a"
             ],
             [
              0.8888888888888888,
              "#fdca26"
             ],
             [
              1,
              "#f0f921"
             ]
            ],
            "type": "heatmapgl"
           }
          ],
          "histogram": [
           {
            "marker": {
             "pattern": {
              "fillmode": "overlay",
              "size": 10,
              "solidity": 0.2
             }
            },
            "type": "histogram"
           }
          ],
          "histogram2d": [
           {
            "colorbar": {
             "outlinewidth": 0,
             "ticks": ""
            },
            "colorscale": [
             [
              0,
              "#0d0887"
             ],
             [
              0.1111111111111111,
              "#46039f"
             ],
             [
              0.2222222222222222,
              "#7201a8"
             ],
             [
              0.3333333333333333,
              "#9c179e"
             ],
             [
              0.4444444444444444,
              "#bd3786"
             ],
             [
              0.5555555555555556,
              "#d8576b"
             ],
             [
              0.6666666666666666,
              "#ed7953"
             ],
             [
              0.7777777777777778,
              "#fb9f3a"
             ],
             [
              0.8888888888888888,
              "#fdca26"
             ],
             [
              1,
              "#f0f921"
             ]
            ],
            "type": "histogram2d"
           }
          ],
          "histogram2dcontour": [
           {
            "colorbar": {
             "outlinewidth": 0,
             "ticks": ""
            },
            "colorscale": [
             [
              0,
              "#0d0887"
             ],
             [
              0.1111111111111111,
              "#46039f"
             ],
             [
              0.2222222222222222,
              "#7201a8"
             ],
             [
              0.3333333333333333,
              "#9c179e"
             ],
             [
              0.4444444444444444,
              "#bd3786"
             ],
             [
              0.5555555555555556,
              "#d8576b"
             ],
             [
              0.6666666666666666,
              "#ed7953"
             ],
             [
              0.7777777777777778,
              "#fb9f3a"
             ],
             [
              0.8888888888888888,
              "#fdca26"
             ],
             [
              1,
              "#f0f921"
             ]
            ],
            "type": "histogram2dcontour"
           }
          ],
          "mesh3d": [
           {
            "colorbar": {
             "outlinewidth": 0,
             "ticks": ""
            },
            "type": "mesh3d"
           }
          ],
          "parcoords": [
           {
            "line": {
             "colorbar": {
              "outlinewidth": 0,
              "ticks": ""
             }
            },
            "type": "parcoords"
           }
          ],
          "pie": [
           {
            "automargin": true,
            "type": "pie"
           }
          ],
          "scatter": [
           {
            "fillpattern": {
             "fillmode": "overlay",
             "size": 10,
             "solidity": 0.2
            },
            "type": "scatter"
           }
          ],
          "scatter3d": [
           {
            "line": {
             "colorbar": {
              "outlinewidth": 0,
              "ticks": ""
             }
            },
            "marker": {
             "colorbar": {
              "outlinewidth": 0,
              "ticks": ""
             }
            },
            "type": "scatter3d"
           }
          ],
          "scattercarpet": [
           {
            "marker": {
             "colorbar": {
              "outlinewidth": 0,
              "ticks": ""
             }
            },
            "type": "scattercarpet"
           }
          ],
          "scattergeo": [
           {
            "marker": {
             "colorbar": {
              "outlinewidth": 0,
              "ticks": ""
             }
            },
            "type": "scattergeo"
           }
          ],
          "scattergl": [
           {
            "marker": {
             "colorbar": {
              "outlinewidth": 0,
              "ticks": ""
             }
            },
            "type": "scattergl"
           }
          ],
          "scattermapbox": [
           {
            "marker": {
             "colorbar": {
              "outlinewidth": 0,
              "ticks": ""
             }
            },
            "type": "scattermapbox"
           }
          ],
          "scatterpolar": [
           {
            "marker": {
             "colorbar": {
              "outlinewidth": 0,
              "ticks": ""
             }
            },
            "type": "scatterpolar"
           }
          ],
          "scatterpolargl": [
           {
            "marker": {
             "colorbar": {
              "outlinewidth": 0,
              "ticks": ""
             }
            },
            "type": "scatterpolargl"
           }
          ],
          "scatterternary": [
           {
            "marker": {
             "colorbar": {
              "outlinewidth": 0,
              "ticks": ""
             }
            },
            "type": "scatterternary"
           }
          ],
          "surface": [
           {
            "colorbar": {
             "outlinewidth": 0,
             "ticks": ""
            },
            "colorscale": [
             [
              0,
              "#0d0887"
             ],
             [
              0.1111111111111111,
              "#46039f"
             ],
             [
              0.2222222222222222,
              "#7201a8"
             ],
             [
              0.3333333333333333,
              "#9c179e"
             ],
             [
              0.4444444444444444,
              "#bd3786"
             ],
             [
              0.5555555555555556,
              "#d8576b"
             ],
             [
              0.6666666666666666,
              "#ed7953"
             ],
             [
              0.7777777777777778,
              "#fb9f3a"
             ],
             [
              0.8888888888888888,
              "#fdca26"
             ],
             [
              1,
              "#f0f921"
             ]
            ],
            "type": "surface"
           }
          ],
          "table": [
           {
            "cells": {
             "fill": {
              "color": "#EBF0F8"
             },
             "line": {
              "color": "white"
             }
            },
            "header": {
             "fill": {
              "color": "#C8D4E3"
             },
             "line": {
              "color": "white"
             }
            },
            "type": "table"
           }
          ]
         },
         "layout": {
          "annotationdefaults": {
           "arrowcolor": "#2a3f5f",
           "arrowhead": 0,
           "arrowwidth": 1
          },
          "autotypenumbers": "strict",
          "coloraxis": {
           "colorbar": {
            "outlinewidth": 0,
            "ticks": ""
           }
          },
          "colorscale": {
           "diverging": [
            [
             0,
             "#8e0152"
            ],
            [
             0.1,
             "#c51b7d"
            ],
            [
             0.2,
             "#de77ae"
            ],
            [
             0.3,
             "#f1b6da"
            ],
            [
             0.4,
             "#fde0ef"
            ],
            [
             0.5,
             "#f7f7f7"
            ],
            [
             0.6,
             "#e6f5d0"
            ],
            [
             0.7,
             "#b8e186"
            ],
            [
             0.8,
             "#7fbc41"
            ],
            [
             0.9,
             "#4d9221"
            ],
            [
             1,
             "#276419"
            ]
           ],
           "sequential": [
            [
             0,
             "#0d0887"
            ],
            [
             0.1111111111111111,
             "#46039f"
            ],
            [
             0.2222222222222222,
             "#7201a8"
            ],
            [
             0.3333333333333333,
             "#9c179e"
            ],
            [
             0.4444444444444444,
             "#bd3786"
            ],
            [
             0.5555555555555556,
             "#d8576b"
            ],
            [
             0.6666666666666666,
             "#ed7953"
            ],
            [
             0.7777777777777778,
             "#fb9f3a"
            ],
            [
             0.8888888888888888,
             "#fdca26"
            ],
            [
             1,
             "#f0f921"
            ]
           ],
           "sequentialminus": [
            [
             0,
             "#0d0887"
            ],
            [
             0.1111111111111111,
             "#46039f"
            ],
            [
             0.2222222222222222,
             "#7201a8"
            ],
            [
             0.3333333333333333,
             "#9c179e"
            ],
            [
             0.4444444444444444,
             "#bd3786"
            ],
            [
             0.5555555555555556,
             "#d8576b"
            ],
            [
             0.6666666666666666,
             "#ed7953"
            ],
            [
             0.7777777777777778,
             "#fb9f3a"
            ],
            [
             0.8888888888888888,
             "#fdca26"
            ],
            [
             1,
             "#f0f921"
            ]
           ]
          },
          "colorway": [
           "#636efa",
           "#EF553B",
           "#00cc96",
           "#ab63fa",
           "#FFA15A",
           "#19d3f3",
           "#FF6692",
           "#B6E880",
           "#FF97FF",
           "#FECB52"
          ],
          "font": {
           "color": "#2a3f5f"
          },
          "geo": {
           "bgcolor": "white",
           "lakecolor": "white",
           "landcolor": "#E5ECF6",
           "showlakes": true,
           "showland": true,
           "subunitcolor": "white"
          },
          "hoverlabel": {
           "align": "left"
          },
          "hovermode": "closest",
          "mapbox": {
           "style": "light"
          },
          "paper_bgcolor": "white",
          "plot_bgcolor": "#E5ECF6",
          "polar": {
           "angularaxis": {
            "gridcolor": "white",
            "linecolor": "white",
            "ticks": ""
           },
           "bgcolor": "#E5ECF6",
           "radialaxis": {
            "gridcolor": "white",
            "linecolor": "white",
            "ticks": ""
           }
          },
          "scene": {
           "xaxis": {
            "backgroundcolor": "#E5ECF6",
            "gridcolor": "white",
            "gridwidth": 2,
            "linecolor": "white",
            "showbackground": true,
            "ticks": "",
            "zerolinecolor": "white"
           },
           "yaxis": {
            "backgroundcolor": "#E5ECF6",
            "gridcolor": "white",
            "gridwidth": 2,
            "linecolor": "white",
            "showbackground": true,
            "ticks": "",
            "zerolinecolor": "white"
           },
           "zaxis": {
            "backgroundcolor": "#E5ECF6",
            "gridcolor": "white",
            "gridwidth": 2,
            "linecolor": "white",
            "showbackground": true,
            "ticks": "",
            "zerolinecolor": "white"
           }
          },
          "shapedefaults": {
           "line": {
            "color": "#2a3f5f"
           }
          },
          "ternary": {
           "aaxis": {
            "gridcolor": "white",
            "linecolor": "white",
            "ticks": ""
           },
           "baxis": {
            "gridcolor": "white",
            "linecolor": "white",
            "ticks": ""
           },
           "bgcolor": "#E5ECF6",
           "caxis": {
            "gridcolor": "white",
            "linecolor": "white",
            "ticks": ""
           }
          },
          "title": {
           "x": 0.05
          },
          "xaxis": {
           "automargin": true,
           "gridcolor": "white",
           "linecolor": "white",
           "ticks": "",
           "title": {
            "standoff": 15
           },
           "zerolinecolor": "white",
           "zerolinewidth": 2
          },
          "yaxis": {
           "automargin": true,
           "gridcolor": "white",
           "linecolor": "white",
           "ticks": "",
           "title": {
            "standoff": 15
           },
           "zerolinecolor": "white",
           "zerolinewidth": 2
          }
         }
        },
        "title": {
         "text": "Stripe Pattern Dataset (Only x1 determines class)"
        },
        "xaxis": {
         "anchor": "y",
         "domain": [
          0,
          1
         ],
         "title": {
          "text": "x1"
         }
        },
        "yaxis": {
         "anchor": "x",
         "domain": [
          0,
          1
         ],
         "title": {
          "text": "x2"
         }
        }
       }
      }
     },
     "metadata": {},
     "output_type": "display_data"
    }
   ],
   "source": [
    "\n",
    "px.scatter(df_stripes, x='x1', y='x2', color=df_stripes['target'].astype(str),\n",
    "           title='Stripe Pattern Dataset (Only x1 determines class)',\n",
    "           labels={'color': 'Target'})\n",
    "\n"
   ]
  },
  {
   "cell_type": "markdown",
   "metadata": {},
   "source": [
    "## Applying Decision Tree Model with Feature Usage Limit on the Stripes Dataset\n",
    "\n",
    "In this example, we build a decision tree on the `df_stripes` dataset where:\n",
    "\n",
    "- **Feature usage is limited**: each feature can be used at most 2 times (`max_feature_usage=2`).\n",
    "- **Max tree depth** is set to 4 (`max_depth=4`), allowing the tree to grow deeper to capture complex patterns.\n",
    "- **Minimum samples per node** is 5 (`min_samples=5`), which avoids splitting nodes with too few samples.\n",
    "- The target column is explicitly set to `'target'`.\n"
   ]
  },
  {
   "cell_type": "code",
   "execution_count": 27,
   "metadata": {},
   "outputs": [
    {
     "name": "stdout",
     "output_type": "stream",
     "text": [
      "=== Split History ===\n",
      "Depth 0: Split on x1 < 0.25 (Gini = 0.333, Samples = 400)\n",
      "Depth 1: Split on x1 < 0.37 (Gini = 0.267, Samples = 300)\n",
      "Depth 2: Split on x2 < 0.62 (Gini = 0.312, Samples = 250)\n",
      "Depth 3: Split on x2 < 0.08 (Gini = 0.358, Samples = 156)\n"
     ]
    },
    {
     "data": {
      "application/vnd.plotly.v1+json": {
       "config": {
        "plotlyServerURL": "https://plot.ly"
       },
       "data": [
        {
         "hovertemplate": "Target=0<br>x1=%{x}<br>x2=%{y}<extra></extra>",
         "legendgroup": "0",
         "marker": {
          "color": "blue",
          "opacity": 0.7,
          "symbol": "circle"
         },
         "mode": "markers",
         "name": "0",
         "orientation": "v",
         "showlegend": true,
         "type": "scatter",
         "x": [
          0.04687634330506932,
          0.11898861555729419,
          0.09161421590610998,
          0.0749263409059505,
          0.01952683566683641,
          0.019523816865048626,
          0.007269574626008567,
          0.10840806719708113,
          0.0752337926922828,
          0.08862028811177798,
          0.0025762949623148804,
          0.12139107379159962,
          0.10418608060473697,
          0.026575740617267325,
          0.022756679873075336,
          0.022954370800237902,
          0.03807806723820617,
          0.06567697665189423,
          0.05406097228007266,
          0.036449385444679475,
          0.07657771464769392,
          0.017458642670905588,
          0.0365639677843343,
          0.04585277431150694,
          0.05708038224873829,
          0.09827032157307157,
          0.024990585228311407,
          0.06436007482602883,
          0.07414487076675227,
          0.005813597485966904,
          0.07603853263731582,
          0.021342299426725005,
          0.008141666678336067,
          0.11875973217071994,
          0.12085567449510583,
          0.10117664226154158,
          0.03812456636999494,
          0.01222435546180038,
          0.08563659975908167,
          0.05508819580294,
          0.015273947716292315,
          0.06197489045113227,
          0.004303966492325351,
          0.11380787583804876,
          0.03238814387973631,
          0.08291934691592442,
          0.03901284449774694,
          0.06509018894356235,
          0.0684246558733808,
          0.02313584175002003,
          0.1290906532307251,
          0.2048083299125883,
          0.16450094153762496,
          0.18880828530900726,
          0.2387454278174179,
          0.15635775308173075,
          0.17651939208885875,
          0.21971963407606732,
          0.15379277615303802,
          0.13479164833172746,
          0.16142151092133528,
          0.1453350521754301,
          0.2415153012301495,
          0.22629904617479862,
          0.20443202581771075,
          0.23422652125365198,
          0.22574230965347403,
          0.14850763012259832,
          0.23686713618646862,
          0.19265956239374232,
          0.2262139112829381,
          0.23730922867889384,
          0.16495745118090838,
          0.13893084474034229,
          0.15368476523376182,
          0.17861262723699212,
          0.22753739856583632,
          0.2328835850412943,
          0.12602717676230446,
          0.18908070361267282,
          0.1773990059929003,
          0.1529554309314973,
          0.1401590664736901,
          0.16741199361433148,
          0.24316888287332047,
          0.16560819998286283,
          0.19008738186035598,
          0.213144860470197,
          0.17066788353355886,
          0.24678246516518193,
          0.2456141504918488,
          0.15666940252729303,
          0.18739123379147665,
          0.1628141157127703,
          0.16080686974747907,
          0.12977373068155817,
          0.20144835357940777,
          0.18807090142166857,
          0.1315999980810258,
          0.16003164309294,
          0.3819395381716178,
          0.4419739934690331,
          0.44313551239679155,
          0.45525006329226547,
          0.46634666823718574,
          0.497605990996689,
          0.4400898435071941,
          0.41589149085755683,
          0.4749943784931071,
          0.40936777607511415,
          0.4304115816202224,
          0.38529057614864276,
          0.37864403018568205,
          0.4959534590189848,
          0.4801000266511706,
          0.46257729683194726,
          0.4266545571271997,
          0.39716021454109973,
          0.39505040711910244,
          0.40679087299942507,
          0.44421080474445374,
          0.4649079362925637,
          0.4580995737475527,
          0.410506911367299,
          0.4949793447820729,
          0.4678242203938597,
          0.44485253357114984,
          0.45203238078620817,
          0.42798711920558885,
          0.4064764898748064,
          0.42002370237672987,
          0.47032100300458285,
          0.3772726522980572,
          0.3899985168730735,
          0.3812287612739015,
          0.3805687029570398,
          0.48253814435541537,
          0.4635389603525212,
          0.43481741185689676,
          0.3877158422006791,
          0.4370004072063354,
          0.4347295442973169,
          0.3971486437499892,
          0.429770806032015,
          0.4253468897905663,
          0.4525491983544765,
          0.4549576650120973,
          0.38114132250957866,
          0.42235662212014063,
          0.45380199778912717,
          0.5135349550555414,
          0.6135891498940693,
          0.5638641797219874,
          0.6040652676270027,
          0.5406847437760531,
          0.6127093359802441,
          0.5493396151010969,
          0.5019846826297135,
          0.6139432279692302,
          0.5120534467994909,
          0.5405926327493659,
          0.6195352446166242,
          0.6196034777330471,
          0.5723980789770822,
          0.5797071671762665,
          0.5567544008473377,
          0.5373256745752144,
          0.5417629649547244,
          0.5847987124060318,
          0.5947932644485963,
          0.5996999865282931,
          0.5994545659161422,
          0.5120433624267157,
          0.5625084698773547,
          0.5078321596105058,
          0.5694056979008125,
          0.5558889371399077,
          0.611730727137336,
          0.5445477681996722,
          0.5152800385335728,
          0.5185246936846881,
          0.5959367122273168,
          0.5780026344304928,
          0.5132844916420902,
          0.511154835234188,
          0.5883595155332798,
          0.5097350785118933,
          0.6034898696671046,
          0.5890194807326058,
          0.5108096488511674,
          0.5112463135330702,
          0.6241131912379467,
          0.5474709095576681,
          0.5470167585251612,
          0.6023558850452382,
          0.6191831290134026,
          0.6240332766126253,
          0.5949188790689536,
          0.5477198206557149,
          0.5110789788596004,
          0.7131652158818467,
          0.6928815920637156,
          0.6645249114961052,
          0.7276375414409209,
          0.7114842886838086,
          0.646138001840925,
          0.739794318441279,
          0.7287316924707071,
          0.7446595152216707,
          0.716614268638943,
          0.7025585901141229,
          0.6781314147629895,
          0.7425229050957898,
          0.7341793599573098,
          0.6314447786177617,
          0.6290853556593701,
          0.6729023938170278,
          0.7272318211581121,
          0.7493499285570334,
          0.6446110795676567,
          0.700145001057011,
          0.6734565254552584,
          0.7471769851386221,
          0.731182478162125,
          0.7307081055351868,
          0.6844456043255152,
          0.677702935289578,
          0.6600041700524625,
          0.6328411343217001,
          0.734011460092187,
          0.7275256496979248,
          0.750907075727898,
          0.7505214872990926,
          0.695301546443479,
          0.7220295530125435,
          0.7440294515839209,
          0.7321247190898312,
          0.6567427057360482,
          0.6821741256251203,
          0.6419505561941037,
          0.745191572183552,
          0.7016523826644842,
          0.654401605693534,
          0.7098534309862699,
          0.7031484609501504,
          0.6706119382561826,
          0.6399978777704215,
          0.7098374748601629,
          0.6909055289819093,
          0.7224464482733767,
          0.942756811481457,
          0.8825855613442891,
          0.9182278840954139,
          0.8929224263241343,
          0.8840313049167682,
          1,
          0.9164443416490535,
          0.9774609908813722,
          0.9079695572644628,
          0.9613943622753488,
          0.9712473697216962,
          0.9506478780478045,
          0.9351205727234604,
          0.9276442808940302,
          0.9197628089251219,
          0.992436622162756,
          0.9800573695027573,
          0.9968794185454944,
          0.8916561555093667,
          0.9675727100447906,
          0.9935394202139268,
          0.8987820786709498,
          0.8844219572858947,
          0.9688559672561156,
          0.9479988501662725,
          0.9814603012626805,
          0.8935929803108233,
          0.9756328048116181,
          0.9013345637007764,
          0.8965821774463227,
          0.8966585051184952,
          0.9780492634434425,
          0.9593536135039558,
          0.9415648145871723,
          0.9210096508731107,
          0.9858873275589373,
          0.9252167585834677,
          0.978302671368051,
          0.9310603172232604,
          0.9232767391657376,
          0.9340071250188664,
          0.9138190506337682,
          0.9696680777920215,
          0.9390184896888124,
          0.9051625395866993,
          0.9886875958720084,
          0.9241461792813646,
          0.9441289620608753,
          0.9895508714690529,
          0.9542272770027844
         ],
         "xaxis": "x",
         "y": [
          0.9764541820151972,
          0.7806246771189517,
          0.9461553372646582,
          0.9011672457319818,
          0.6021361292442537,
          0.9284057588204343,
          0.08911947573344535,
          0.19737141053246232,
          0.04554772645243327,
          0.3276353119815713,
          0.3914310871931296,
          0.2732715528630831,
          0.8346091547160551,
          0.35928094136655264,
          0.2829249443538457,
          0.5465411113054666,
          0.14192267996360186,
          0.8078805853834713,
          0.0750788386165645,
          0.9938790785508846,
          0.777716161050966,
          0.2001235918038504,
          0.005561241592032172,
          0.8212390123414406,
          0.7118654625120177,
          0.7341722192872185,
          0.7767348346086591,
          0.07456926169333622,
          0.3610054756676434,
          0.11668999744801482,
          0.8692185556313473,
          0.6277142243748501,
          0.3332424534544055,
          0.06400866428943104,
          0.31318564659194525,
          0.32748726168100495,
          0.7347754736013875,
          0.6420745970520927,
          0.8934986880136401,
          0.4755605908763907,
          0.12044157698812614,
          0.7182981612344108,
          0.7661752476927616,
          0.5652538738161481,
          0.7764295199262358,
          0.49729416218403716,
          0.5264364169051468,
          0.4305701672702427,
          0.025599222493524525,
          0.10865584300165035,
          0.9147009939489632,
          0.2412591983152141,
          0.14592145930802425,
          0.49292055689228825,
          0.9926338355223816,
          0.2437702448843096,
          0.6768976604535377,
          0.7670157273503303,
          0.23932121755084715,
          0.7333757968639683,
          0.3703888941044247,
          0.6367857481602104,
          0.6380182995780436,
          0.5395706737727965,
          0.09092947746715523,
          0.8412206544016089,
          0.323052807335574,
          0.18784000311874585,
          0.04106403541608031,
          0.5950794484331836,
          0.6823649383042941,
          0.01670535450268188,
          0.5157212625267686,
          0.22810050878251426,
          0.6497438710122562,
          0.175601823636094,
          0.6958330655857942,
          0.3894753850408135,
          0.9433667662717324,
          0.1384952867246169,
          0.34348282273773667,
          0.11427748665820346,
          0.9312451175433866,
          0.8835553453755802,
          0.25976915669441825,
          0.6646600651035416,
          0.8230122592412935,
          0.5591344363559465,
          0.533403178467136,
          0.24356582614575814,
          0.09376240544454642,
          0.9035725752411571,
          0.9067975628968312,
          0.6375870118936257,
          0.34143183360950463,
          0.3516837414351847,
          0.7310991101672641,
          0.9034663297819404,
          0.8933714747310515,
          0.7854010020350463,
          0.5067010034458846,
          0.8625581133748661,
          0.6633605080394067,
          0.16408882542282377,
          0.07106873040839538,
          0.6469708500412252,
          0.026699144466383072,
          0.589925829760318,
          0.9468918184205123,
          0.5795514404185768,
          0.3909201290152134,
          0.6478459467611024,
          0.46149963451117104,
          0.5494825108083504,
          0.9481351327418182,
          0.3888381937705531,
          0.968000645723226,
          0.9117650952927537,
          0.19717832450303,
          0.0698527290657664,
          0.10149201841926994,
          0.018350928172644356,
          0.09511209372681677,
          0.687845909629103,
          0.07169302349735668,
          0.321235588150134,
          0.850861293644439,
          0.023436818532517084,
          0.820239031405783,
          0.28385172956276317,
          0.11900203117317693,
          0.701673582071726,
          0.6333989374426113,
          0.8836889454252399,
          0.7402790579048587,
          0.8091736318598689,
          0.2840328012368137,
          0.17869671157848807,
          0.7559328936679395,
          0.8125512026413536,
          0.997522919112299,
          0.4155410932230595,
          0.3746538520264789,
          0.7819138843354465,
          0.34321814991321387,
          0.9373517865297395,
          0.864494647945079,
          0.43203347092627103,
          0.7561910258309738,
          0.7598888470503513,
          0.7826530396290766,
          0.5623605710073082,
          0.4272276428176693,
          0.912775950000388,
          0.11198532187720324,
          0.4961153771172291,
          0.011434085892864805,
          0.47198112543943477,
          0.05670218712876983,
          0.11965974698442025,
          0.1183589259522798,
          0.6538099886857054,
          0.7513306435244349,
          0.5875019611743318,
          0.9689895877828695,
          0.3775265558142355,
          0.28773637031089033,
          0.874753195263432,
          0.225180025911602,
          0.9700470179860076,
          0.012240589734216554,
          0.9767504653721,
          0.0434657020261478,
          0.897456906005965,
          0.5314398971128266,
          1,
          0.07431941698619145,
          0.5577783689471079,
          0.9761700912331654,
          0.5268040178408308,
          0.6338579581019135,
          0.7006781022889618,
          0.4577615103216228,
          0.6320043596073924,
          0.5884542072455281,
          0.9075427588298093,
          0.04576837015679827,
          0.28295382745721614,
          0.9571451956715401,
          0.8965713461043537,
          0.4588851030434394,
          0.6245262674217007,
          0.27934644215504145,
          0.18945400729106954,
          0.4669837306943869,
          0.3558557457495191,
          0.5877913437937716,
          0.07828539064908134,
          0.9812984422753869,
          0.9931980955759019,
          0.5238488848193749,
          0.8582192477004534,
          0.555817125573278,
          0.5649122443490857,
          0.8828647360757178,
          0.4063415619458883,
          0.13496473286303634,
          0.028986602975077536,
          0.7604874398617578,
          0.6247044746981515,
          0.7090682075043389,
          0.21447302295229007,
          0.13733767412473838,
          0.014647715331626369,
          0.3530714887141633,
          0.5940972823610123,
          0.3950231132389571,
          0.4405744531260989,
          0.9105647028246887,
          0.3507228739471434,
          0.5176311296921923,
          0.7892052324551802,
          0.3993523072228104,
          0.6264942147587803,
          0.8684735975706595,
          0.9562480234632219,
          0.14811550369542778,
          0.9331525435572128,
          0.4956029609537261,
          0.26007406235168423,
          0.46238875540467617,
          0.9869761537525147,
          0.49610831715093723,
          0.33108083143766376,
          0.6378885301796998,
          0.24184706216849666,
          0.07640082347848842,
          0.12979284100940564,
          0.12895304995524565,
          0.15297893148474107,
          0.13981076992051858,
          0.6454153735438334,
          0.18316871364419723,
          0.3481163528403003,
          0.9031421994121397,
          0.47731968153876825,
          0.6722874175700616,
          0.1735407658711461,
          0.19365139586033028,
          0.04115817240067459,
          0.11772626901298451,
          0.94649087992497,
          0.6321553951606573,
          0.33727843722754564,
          0.14025882207273574,
          0.7996508963595698,
          0.6244660015660963,
          0.5372406897618035,
          0.9002258554829574,
          0.7941844608253205,
          0.15274950363348844,
          0.3139306338087903,
          0.25024969745716025,
          0.7492171882428903,
          0.033770013666980604,
          0.5739273810094339,
          0.7678607426169864,
          0.8829775639461944,
          0.3445054145452382,
          0.8270759526235433,
          0.11141556819292847,
          0.8524494473949312,
          0.12839192570595948,
          0.4001020903389962,
          0.8029442422284647,
          0.15097959961388385,
          0.23087565251920367,
          0.7273697629722321,
          0.7251380304318111,
          0.6456901950512516,
          0.6988651029514698,
          0.5465696724281354,
          0.25358306748742,
          0.3481452664333788,
          0.1828843454583132,
          0.9148869777498959,
          0.5875251540096176,
          0.40369146854978666,
          0.46527913723602415,
          0.9539948881511036,
          0.15443790526653844,
          0.5903832988922644,
          0.5094729247820037,
          0.615786418435306,
          0.018238495354134035,
          0.878302949261224,
          0.9387223858554825,
          0.5691371796843748,
          0.7015866288508306,
          0.929035334165524
         ],
         "yaxis": "y"
        },
        {
         "hovertemplate": "Target=1<br>x1=%{x}<br>x2=%{y}<extra></extra>",
         "legendgroup": "1",
         "marker": {
          "color": "red",
          "opacity": 0.7,
          "symbol": "circle"
         },
         "mode": "markers",
         "name": "1",
         "orientation": "v",
         "showlegend": true,
         "type": "scatter",
         "x": [
          0.3306689356780449,
          0.26084484833182253,
          0.2705431130097165,
          0.362774545081818,
          0.32621302032187444,
          0.2514652129896323,
          0.2630140178103794,
          0.3333560733269573,
          0.2509476299666723,
          0.2704404012748335,
          0.3189920494265355,
          0.3369097116128571,
          0.3319116969759122,
          0.2783830262938918,
          0.33944840055058356,
          0.28000753726249744,
          0.2910402092782003,
          0.34374281288462655,
          0.33162028620693906,
          0.3566004495171214,
          0.332619038769033,
          0.3214419757590261,
          0.2620381963029916,
          0.29633636891722126,
          0.2835060878649907,
          0.28085116547668526,
          0.3720932856086523,
          0.2995130958181178,
          0.36196006876895914,
          0.3293055972082405,
          0.3497903897208345,
          0.31322272205560237,
          0.3225177359682001,
          0.3119562077060934,
          0.2747501769657002,
          0.3407341258377164,
          0.28545478276537484,
          0.25335745204653454,
          0.33109955731480006,
          0.27248079040261186,
          0.36801917642002685,
          0.3697050412125784,
          0.364815882112164,
          0.29664211476888486,
          0.2522486417840414,
          0.36649976688454816,
          0.3039044097458542,
          0.37129782035927456,
          0.37091798843694357,
          0.3570742998071183,
          0.7720858281702513,
          0.785809961053325,
          0.7730965242150007,
          0.762044160004012,
          0.7660408428928819,
          0.8086121307390021,
          0.7767665342371001,
          0.7965333588580834,
          0.8139486407568218,
          0.837350203760419,
          0.755862603090157,
          0.8509942729558758,
          0.829528582961217,
          0.7611751316726773,
          0.8602769505963814,
          0.8661961010113378,
          0.7585867493162582,
          0.7855956056829676,
          0.8518441996997524,
          0.8445924002258931,
          0.7740365207683233,
          0.7771439585099634,
          0.7973096132527127,
          0.8115838873520125,
          0.8283213656935378,
          0.7971145605645539,
          0.8088319000556632,
          0.8444936823065341,
          0.7555335730481995,
          0.7825366788432438,
          0.8402231538862697,
          0.8629838744046808,
          0.8149824595770113,
          0.8175401748290604,
          0.76435574567472,
          0.8069392311474515,
          0.8176032266059222,
          0.7812893083408364,
          0.7846401044068944,
          0.7981621907518629,
          0.7534544631866098,
          0.791252895096341,
          0.7774066236045064,
          0.7919310194470446,
          0.7659314882458078,
          0.8623981947753463,
          0.8252347022735785,
          0.8359368663774496,
          0.8497127696687635,
          0.8133259753390853
         ],
         "xaxis": "x",
         "y": [
          0.29653507679260055,
          0.387826164741149,
          0.8571670162358873,
          0.31916741297865797,
          0.17069361104089806,
          0.5607462264870193,
          0.9427874762725285,
          0.7009612016409774,
          0.5741000812085937,
          0.09786499395603267,
          0.6193645828157631,
          0.997068429790851,
          0.14107651729849802,
          0.5220020431635339,
          0.8835893028201001,
          0.7460169994437591,
          0.7019541314247404,
          0.7074612178926724,
          0.3620381635126608,
          0.2956719567621203,
          0.8150955186343509,
          0.8158530874863454,
          0.8732155681337254,
          0.9197109062935493,
          0.5149652846297909,
          0.5050695620300164,
          0.803951139140751,
          0.6545689568431334,
          0.7069403467284303,
          0.8014308992083241,
          0.8963110729563427,
          0.3403898689787258,
          0.3782439761286556,
          0.09464780645614901,
          0.5823772839240678,
          0.036196926554910594,
          0.4688968027387354,
          0.5464892983400191,
          0.2885714108376686,
          0.5950193429596922,
          0.030716345693473063,
          0.03761280248320827,
          0.8284287256452003,
          0.36274260962620025,
          0.12796074256455212,
          0.5259433789554601,
          0.7754489948766516,
          0.21735012997471184,
          0.6273036851390679,
          0.08595215593475468,
          0.08753612255653483,
          0.5409119677934854,
          0.5909989158874196,
          0.7507209491188938,
          0.43471787511167453,
          0.1284842154466829,
          0.28578647189485057,
          0.3656547521298151,
          0.6504935964054028,
          0.5748222967215197,
          0.35861968852223314,
          0.9935047573171508,
          0.610066763418374,
          0.23890755509472536,
          0.10250360638986342,
          0.15394215362088898,
          0.24770035085408748,
          0.16181980860502784,
          0.18788886049177775,
          0.28711508183175727,
          0.17460195565072656,
          0.9031190512807291,
          0.08080220565241718,
          0.5282275782788546,
          0.41330450847157135,
          0.989338817194661,
          0.1128327032397545,
          0.4006744253176333,
          0.976339178452497,
          0.871639285981286,
          0.8228610663163051,
          0.25973008111956664,
          0.17209833425910742,
          0.673380589662009,
          0.9359606632176367,
          0.5607075851932188,
          0.5756625931794093,
          0.28196275915772334,
          0.7749448280535877,
          0.18836896261431094,
          0.3259725195387038,
          0.428450676478265,
          0.5112068229088234,
          0.24412721716063313,
          0.11565044922841997,
          0.6149463151443582,
          0.29067551474964687,
          0.5853563224942155,
          0.15545638262049352,
          0.4845490028802699
         ],
         "yaxis": "y"
        }
       ],
       "layout": {
        "coloraxis": {
         "showscale": false
        },
        "height": 600,
        "legend": {
         "title": {
          "text": "Target"
         },
         "tracegroupgap": 0
        },
        "shapes": [
         {
          "line": {
           "color": "green",
           "dash": "dash"
          },
          "type": "line",
          "x0": 0.24886504756592712,
          "x1": 0.24886504756592712,
          "y0": 0.005561241592032172,
          "y1": 1
         },
         {
          "line": {
           "color": "green",
           "dash": "dash"
          },
          "type": "line",
          "x0": 0.37468296895335473,
          "x1": 0.37468296895335473,
          "y0": 0.011434085892864805,
          "y1": 1
         },
         {
          "line": {
           "color": "purple",
           "dash": "dash"
          },
          "type": "line",
          "x0": 0.3772726522980572,
          "x1": 1,
          "y0": 0.6153663667898321,
          "y1": 0.6153663667898321
         },
         {
          "line": {
           "color": "purple",
           "dash": "dash"
          },
          "type": "line",
          "x0": 0.37864403018568205,
          "x1": 0.9935394202139268,
          "y0": 0.07954379815074926,
          "y1": 0.07954379815074926
         }
        ],
        "showlegend": true,
        "template": {
         "data": {
          "bar": [
           {
            "error_x": {
             "color": "#2a3f5f"
            },
            "error_y": {
             "color": "#2a3f5f"
            },
            "marker": {
             "line": {
              "color": "#E5ECF6",
              "width": 0.5
             },
             "pattern": {
              "fillmode": "overlay",
              "size": 10,
              "solidity": 0.2
             }
            },
            "type": "bar"
           }
          ],
          "barpolar": [
           {
            "marker": {
             "line": {
              "color": "#E5ECF6",
              "width": 0.5
             },
             "pattern": {
              "fillmode": "overlay",
              "size": 10,
              "solidity": 0.2
             }
            },
            "type": "barpolar"
           }
          ],
          "carpet": [
           {
            "aaxis": {
             "endlinecolor": "#2a3f5f",
             "gridcolor": "white",
             "linecolor": "white",
             "minorgridcolor": "white",
             "startlinecolor": "#2a3f5f"
            },
            "baxis": {
             "endlinecolor": "#2a3f5f",
             "gridcolor": "white",
             "linecolor": "white",
             "minorgridcolor": "white",
             "startlinecolor": "#2a3f5f"
            },
            "type": "carpet"
           }
          ],
          "choropleth": [
           {
            "colorbar": {
             "outlinewidth": 0,
             "ticks": ""
            },
            "type": "choropleth"
           }
          ],
          "contour": [
           {
            "colorbar": {
             "outlinewidth": 0,
             "ticks": ""
            },
            "colorscale": [
             [
              0,
              "#0d0887"
             ],
             [
              0.1111111111111111,
              "#46039f"
             ],
             [
              0.2222222222222222,
              "#7201a8"
             ],
             [
              0.3333333333333333,
              "#9c179e"
             ],
             [
              0.4444444444444444,
              "#bd3786"
             ],
             [
              0.5555555555555556,
              "#d8576b"
             ],
             [
              0.6666666666666666,
              "#ed7953"
             ],
             [
              0.7777777777777778,
              "#fb9f3a"
             ],
             [
              0.8888888888888888,
              "#fdca26"
             ],
             [
              1,
              "#f0f921"
             ]
            ],
            "type": "contour"
           }
          ],
          "contourcarpet": [
           {
            "colorbar": {
             "outlinewidth": 0,
             "ticks": ""
            },
            "type": "contourcarpet"
           }
          ],
          "heatmap": [
           {
            "colorbar": {
             "outlinewidth": 0,
             "ticks": ""
            },
            "colorscale": [
             [
              0,
              "#0d0887"
             ],
             [
              0.1111111111111111,
              "#46039f"
             ],
             [
              0.2222222222222222,
              "#7201a8"
             ],
             [
              0.3333333333333333,
              "#9c179e"
             ],
             [
              0.4444444444444444,
              "#bd3786"
             ],
             [
              0.5555555555555556,
              "#d8576b"
             ],
             [
              0.6666666666666666,
              "#ed7953"
             ],
             [
              0.7777777777777778,
              "#fb9f3a"
             ],
             [
              0.8888888888888888,
              "#fdca26"
             ],
             [
              1,
              "#f0f921"
             ]
            ],
            "type": "heatmap"
           }
          ],
          "heatmapgl": [
           {
            "colorbar": {
             "outlinewidth": 0,
             "ticks": ""
            },
            "colorscale": [
             [
              0,
              "#0d0887"
             ],
             [
              0.1111111111111111,
              "#46039f"
             ],
             [
              0.2222222222222222,
              "#7201a8"
             ],
             [
              0.3333333333333333,
              "#9c179e"
             ],
             [
              0.4444444444444444,
              "#bd3786"
             ],
             [
              0.5555555555555556,
              "#d8576b"
             ],
             [
              0.6666666666666666,
              "#ed7953"
             ],
             [
              0.7777777777777778,
              "#fb9f3a"
             ],
             [
              0.8888888888888888,
              "#fdca26"
             ],
             [
              1,
              "#f0f921"
             ]
            ],
            "type": "heatmapgl"
           }
          ],
          "histogram": [
           {
            "marker": {
             "pattern": {
              "fillmode": "overlay",
              "size": 10,
              "solidity": 0.2
             }
            },
            "type": "histogram"
           }
          ],
          "histogram2d": [
           {
            "colorbar": {
             "outlinewidth": 0,
             "ticks": ""
            },
            "colorscale": [
             [
              0,
              "#0d0887"
             ],
             [
              0.1111111111111111,
              "#46039f"
             ],
             [
              0.2222222222222222,
              "#7201a8"
             ],
             [
              0.3333333333333333,
              "#9c179e"
             ],
             [
              0.4444444444444444,
              "#bd3786"
             ],
             [
              0.5555555555555556,
              "#d8576b"
             ],
             [
              0.6666666666666666,
              "#ed7953"
             ],
             [
              0.7777777777777778,
              "#fb9f3a"
             ],
             [
              0.8888888888888888,
              "#fdca26"
             ],
             [
              1,
              "#f0f921"
             ]
            ],
            "type": "histogram2d"
           }
          ],
          "histogram2dcontour": [
           {
            "colorbar": {
             "outlinewidth": 0,
             "ticks": ""
            },
            "colorscale": [
             [
              0,
              "#0d0887"
             ],
             [
              0.1111111111111111,
              "#46039f"
             ],
             [
              0.2222222222222222,
              "#7201a8"
             ],
             [
              0.3333333333333333,
              "#9c179e"
             ],
             [
              0.4444444444444444,
              "#bd3786"
             ],
             [
              0.5555555555555556,
              "#d8576b"
             ],
             [
              0.6666666666666666,
              "#ed7953"
             ],
             [
              0.7777777777777778,
              "#fb9f3a"
             ],
             [
              0.8888888888888888,
              "#fdca26"
             ],
             [
              1,
              "#f0f921"
             ]
            ],
            "type": "histogram2dcontour"
           }
          ],
          "mesh3d": [
           {
            "colorbar": {
             "outlinewidth": 0,
             "ticks": ""
            },
            "type": "mesh3d"
           }
          ],
          "parcoords": [
           {
            "line": {
             "colorbar": {
              "outlinewidth": 0,
              "ticks": ""
             }
            },
            "type": "parcoords"
           }
          ],
          "pie": [
           {
            "automargin": true,
            "type": "pie"
           }
          ],
          "scatter": [
           {
            "fillpattern": {
             "fillmode": "overlay",
             "size": 10,
             "solidity": 0.2
            },
            "type": "scatter"
           }
          ],
          "scatter3d": [
           {
            "line": {
             "colorbar": {
              "outlinewidth": 0,
              "ticks": ""
             }
            },
            "marker": {
             "colorbar": {
              "outlinewidth": 0,
              "ticks": ""
             }
            },
            "type": "scatter3d"
           }
          ],
          "scattercarpet": [
           {
            "marker": {
             "colorbar": {
              "outlinewidth": 0,
              "ticks": ""
             }
            },
            "type": "scattercarpet"
           }
          ],
          "scattergeo": [
           {
            "marker": {
             "colorbar": {
              "outlinewidth": 0,
              "ticks": ""
             }
            },
            "type": "scattergeo"
           }
          ],
          "scattergl": [
           {
            "marker": {
             "colorbar": {
              "outlinewidth": 0,
              "ticks": ""
             }
            },
            "type": "scattergl"
           }
          ],
          "scattermapbox": [
           {
            "marker": {
             "colorbar": {
              "outlinewidth": 0,
              "ticks": ""
             }
            },
            "type": "scattermapbox"
           }
          ],
          "scatterpolar": [
           {
            "marker": {
             "colorbar": {
              "outlinewidth": 0,
              "ticks": ""
             }
            },
            "type": "scatterpolar"
           }
          ],
          "scatterpolargl": [
           {
            "marker": {
             "colorbar": {
              "outlinewidth": 0,
              "ticks": ""
             }
            },
            "type": "scatterpolargl"
           }
          ],
          "scatterternary": [
           {
            "marker": {
             "colorbar": {
              "outlinewidth": 0,
              "ticks": ""
             }
            },
            "type": "scatterternary"
           }
          ],
          "surface": [
           {
            "colorbar": {
             "outlinewidth": 0,
             "ticks": ""
            },
            "colorscale": [
             [
              0,
              "#0d0887"
             ],
             [
              0.1111111111111111,
              "#46039f"
             ],
             [
              0.2222222222222222,
              "#7201a8"
             ],
             [
              0.3333333333333333,
              "#9c179e"
             ],
             [
              0.4444444444444444,
              "#bd3786"
             ],
             [
              0.5555555555555556,
              "#d8576b"
             ],
             [
              0.6666666666666666,
              "#ed7953"
             ],
             [
              0.7777777777777778,
              "#fb9f3a"
             ],
             [
              0.8888888888888888,
              "#fdca26"
             ],
             [
              1,
              "#f0f921"
             ]
            ],
            "type": "surface"
           }
          ],
          "table": [
           {
            "cells": {
             "fill": {
              "color": "#EBF0F8"
             },
             "line": {
              "color": "white"
             }
            },
            "header": {
             "fill": {
              "color": "#C8D4E3"
             },
             "line": {
              "color": "white"
             }
            },
            "type": "table"
           }
          ]
         },
         "layout": {
          "annotationdefaults": {
           "arrowcolor": "#2a3f5f",
           "arrowhead": 0,
           "arrowwidth": 1
          },
          "autotypenumbers": "strict",
          "coloraxis": {
           "colorbar": {
            "outlinewidth": 0,
            "ticks": ""
           }
          },
          "colorscale": {
           "diverging": [
            [
             0,
             "#8e0152"
            ],
            [
             0.1,
             "#c51b7d"
            ],
            [
             0.2,
             "#de77ae"
            ],
            [
             0.3,
             "#f1b6da"
            ],
            [
             0.4,
             "#fde0ef"
            ],
            [
             0.5,
             "#f7f7f7"
            ],
            [
             0.6,
             "#e6f5d0"
            ],
            [
             0.7,
             "#b8e186"
            ],
            [
             0.8,
             "#7fbc41"
            ],
            [
             0.9,
             "#4d9221"
            ],
            [
             1,
             "#276419"
            ]
           ],
           "sequential": [
            [
             0,
             "#0d0887"
            ],
            [
             0.1111111111111111,
             "#46039f"
            ],
            [
             0.2222222222222222,
             "#7201a8"
            ],
            [
             0.3333333333333333,
             "#9c179e"
            ],
            [
             0.4444444444444444,
             "#bd3786"
            ],
            [
             0.5555555555555556,
             "#d8576b"
            ],
            [
             0.6666666666666666,
             "#ed7953"
            ],
            [
             0.7777777777777778,
             "#fb9f3a"
            ],
            [
             0.8888888888888888,
             "#fdca26"
            ],
            [
             1,
             "#f0f921"
            ]
           ],
           "sequentialminus": [
            [
             0,
             "#0d0887"
            ],
            [
             0.1111111111111111,
             "#46039f"
            ],
            [
             0.2222222222222222,
             "#7201a8"
            ],
            [
             0.3333333333333333,
             "#9c179e"
            ],
            [
             0.4444444444444444,
             "#bd3786"
            ],
            [
             0.5555555555555556,
             "#d8576b"
            ],
            [
             0.6666666666666666,
             "#ed7953"
            ],
            [
             0.7777777777777778,
             "#fb9f3a"
            ],
            [
             0.8888888888888888,
             "#fdca26"
            ],
            [
             1,
             "#f0f921"
            ]
           ]
          },
          "colorway": [
           "#636efa",
           "#EF553B",
           "#00cc96",
           "#ab63fa",
           "#FFA15A",
           "#19d3f3",
           "#FF6692",
           "#B6E880",
           "#FF97FF",
           "#FECB52"
          ],
          "font": {
           "color": "#2a3f5f"
          },
          "geo": {
           "bgcolor": "white",
           "lakecolor": "white",
           "landcolor": "#E5ECF6",
           "showlakes": true,
           "showland": true,
           "subunitcolor": "white"
          },
          "hoverlabel": {
           "align": "left"
          },
          "hovermode": "closest",
          "mapbox": {
           "style": "light"
          },
          "paper_bgcolor": "white",
          "plot_bgcolor": "#E5ECF6",
          "polar": {
           "angularaxis": {
            "gridcolor": "white",
            "linecolor": "white",
            "ticks": ""
           },
           "bgcolor": "#E5ECF6",
           "radialaxis": {
            "gridcolor": "white",
            "linecolor": "white",
            "ticks": ""
           }
          },
          "scene": {
           "xaxis": {
            "backgroundcolor": "#E5ECF6",
            "gridcolor": "white",
            "gridwidth": 2,
            "linecolor": "white",
            "showbackground": true,
            "ticks": "",
            "zerolinecolor": "white"
           },
           "yaxis": {
            "backgroundcolor": "#E5ECF6",
            "gridcolor": "white",
            "gridwidth": 2,
            "linecolor": "white",
            "showbackground": true,
            "ticks": "",
            "zerolinecolor": "white"
           },
           "zaxis": {
            "backgroundcolor": "#E5ECF6",
            "gridcolor": "white",
            "gridwidth": 2,
            "linecolor": "white",
            "showbackground": true,
            "ticks": "",
            "zerolinecolor": "white"
           }
          },
          "shapedefaults": {
           "line": {
            "color": "#2a3f5f"
           }
          },
          "ternary": {
           "aaxis": {
            "gridcolor": "white",
            "linecolor": "white",
            "ticks": ""
           },
           "baxis": {
            "gridcolor": "white",
            "linecolor": "white",
            "ticks": ""
           },
           "bgcolor": "#E5ECF6",
           "caxis": {
            "gridcolor": "white",
            "linecolor": "white",
            "ticks": ""
           }
          },
          "title": {
           "x": 0.05
          },
          "xaxis": {
           "automargin": true,
           "gridcolor": "white",
           "linecolor": "white",
           "ticks": "",
           "title": {
            "standoff": 15
           },
           "zerolinecolor": "white",
           "zerolinewidth": 2
          },
          "yaxis": {
           "automargin": true,
           "gridcolor": "white",
           "linecolor": "white",
           "ticks": "",
           "title": {
            "standoff": 15
           },
           "zerolinecolor": "white",
           "zerolinewidth": 2
          }
         }
        },
        "title": {
         "text": "All Tree Splits"
        },
        "width": 600,
        "xaxis": {
         "anchor": "y",
         "domain": [
          0,
          1
         ],
         "title": {
          "text": "x1"
         }
        },
        "yaxis": {
         "anchor": "x",
         "domain": [
          0,
          1
         ],
         "title": {
          "text": "x2"
         }
        }
       }
      }
     },
     "metadata": {},
     "output_type": "display_data"
    },
    {
     "name": "stdout",
     "output_type": "stream",
     "text": [
      "Accuracy of tree model with feature limit: 0.88\n",
      "Misclassification Rate of tree model with feature limit: 0.12\n"
     ]
    }
   ],
   "source": [
    "# Make sure the target column is named 'target'\n",
    "tree_model_with_feature_limit = build_tree(df_stripes, features=['x1', 'x2'], target_col='target',\n",
    "                                           max_depth=4, min_samples=5, max_feature_usage=2)\n",
    "\n",
    "# Print split history\n",
    "print(\"=== Split History ===\")\n",
    "for step in tree_model_with_feature_limit['history']:\n",
    "    print(f\"Depth {step['depth']}: Split on {step['feature']} < {step['threshold']:.2f} \"\n",
    "          f\"(Gini = {step['gini']:.3f}, Samples = {step['samples']})\")\n",
    "\n",
    "# Plot all splits with Plotly\n",
    "plot_all_splits(df_stripes, tree_model_with_feature_limit['history'])\n",
    "\n",
    "# Make predictions\n",
    "predictions = predict_tree(tree_model_with_feature_limit, df_stripes)\n",
    "\n",
    "# Compare to actual\n",
    "actual = df_stripes['target']\n",
    "correct = (predictions == actual)\n",
    "\n",
    "accuracy = correct.mean()\n",
    "misclassification_rate = 1 - accuracy\n",
    "\n",
    "print(f\"Accuracy of tree model with feature limit: {accuracy:.2f}\")\n",
    "print(f\"Misclassification Rate of tree model with feature limit: {misclassification_rate:.2f}\")\n",
    "\n"
   ]
  },
  {
   "cell_type": "markdown",
   "metadata": {},
   "source": [
    "### Results of Tree Model with Feature Usage Limit\n",
    "\n",
    "**Split History:**\n",
    "\n",
    "- Depth 0: Split on **x1** < 0.25 (Gini = 0.333, Samples = 400)  \n",
    "- Depth 1: Split on **x1** < 0.37 (Gini = 0.267, Samples = 300)  \n",
    "- Depth 2: Split on **x2** < 0.62 (Gini = 0.312, Samples = 250)  \n",
    "- Depth 3: Split on **x2** < 0.08 (Gini = 0.358, Samples = 156)  \n",
    "\n",
    "**Accuracy and Misclassification:**\n",
    "\n",
    "- **Accuracy:** 0.88  \n",
    "- **Misclassification Rate:** 0.12  \n",
    "\n",
    "\n",
    "### Insight\n",
    "\n",
    "This result highlights a key point:\n",
    "\n",
    "- This model applied a **limit on the number of times each feature can be used** (max_feature_usage=2). While the model successfully splits on features `x1` and `x2`, the **accuracy dropped to 88%**, which is lower than what we might expect with no feature usage limits.\n",
    "\n",
    "**The issue arises because limiting how many times a feature can be used restricts the model's flexibility to make optimal splits**, especially in datasets like this \"striped\" data where certain features (like `x1`) carry crucial information repeatedly across different depth levels.\n",
    "\n",
    "In the plotted split history and visualization, you might notice:\n",
    "\n",
    "- The model **could not fully exploit the `x1` feature** to capture all the critical splits needed to separate the red stripes (target=1) accurately.\n",
    "- As a result, the model relies more on `x2` splits that might be less informative, causing **increased impurity (higher Gini at deeper levels)** and reducing prediction accuracy.\n",
    "\n",
    "The feature usage limit, while useful to prevent overfitting in some cases, **can harm model performance on complex datasets where repeated use of a key feature is necessary** to capture important decision boundaries.\n",
    "\n"
   ]
  },
  {
   "cell_type": "markdown",
   "metadata": {},
   "source": []
  },
  {
   "cell_type": "markdown",
   "metadata": {},
   "source": [
    "## Tree Model Without Feature Usage Limit\n",
    "\n",
    "This code builds and evaluates a decision tree model on the `df_stripes` dataset, **without restricting the number of times a feature can be used for splitting**.\n",
    "\n",
    "\n",
    "**Key points of the code:**\n",
    "\n",
    "- **Model Building:**  \n",
    "  The function `build_tree_without_feature_limit()` is called with parameters:\n",
    "  - `features=['x1', 'x2']` — the features used for splitting,\n",
    "  - `target_col='target'` — the target variable,\n",
    "  - `max_depth=4` — maximum depth of the tree,\n",
    "  - `min_samples=5` — minimum number of samples required to split a node.\n",
    "  \n",
    "  Unlike the previous model, **there is no limit on how many times a single feature can be used** in the tree splits. This allows the model to repeatedly use the same feature if it helps improve purity.\n"
   ]
  },
  {
   "cell_type": "code",
   "execution_count": 28,
   "metadata": {},
   "outputs": [
    {
     "name": "stdout",
     "output_type": "stream",
     "text": [
      "=== Split History ===\n",
      "Depth 0: Split on x1 < 0.25 (Gini = 0.333, Samples = 400)\n",
      "Depth 1: Split on x1 < 0.37 (Gini = 0.267, Samples = 300)\n",
      "Depth 2: Split on x1 < 0.75 (Gini = 0.200, Samples = 250)\n",
      "Depth 3: Split on x1 < 0.87 (Gini = 0.000, Samples = 100)\n"
     ]
    },
    {
     "data": {
      "application/vnd.plotly.v1+json": {
       "config": {
        "plotlyServerURL": "https://plot.ly"
       },
       "data": [
        {
         "hovertemplate": "Target=0<br>x1=%{x}<br>x2=%{y}<extra></extra>",
         "legendgroup": "0",
         "marker": {
          "color": "blue",
          "opacity": 0.7,
          "symbol": "circle"
         },
         "mode": "markers",
         "name": "0",
         "orientation": "v",
         "showlegend": true,
         "type": "scatter",
         "x": [
          0.04687634330506932,
          0.11898861555729419,
          0.09161421590610998,
          0.0749263409059505,
          0.01952683566683641,
          0.019523816865048626,
          0.007269574626008567,
          0.10840806719708113,
          0.0752337926922828,
          0.08862028811177798,
          0.0025762949623148804,
          0.12139107379159962,
          0.10418608060473697,
          0.026575740617267325,
          0.022756679873075336,
          0.022954370800237902,
          0.03807806723820617,
          0.06567697665189423,
          0.05406097228007266,
          0.036449385444679475,
          0.07657771464769392,
          0.017458642670905588,
          0.0365639677843343,
          0.04585277431150694,
          0.05708038224873829,
          0.09827032157307157,
          0.024990585228311407,
          0.06436007482602883,
          0.07414487076675227,
          0.005813597485966904,
          0.07603853263731582,
          0.021342299426725005,
          0.008141666678336067,
          0.11875973217071994,
          0.12085567449510583,
          0.10117664226154158,
          0.03812456636999494,
          0.01222435546180038,
          0.08563659975908167,
          0.05508819580294,
          0.015273947716292315,
          0.06197489045113227,
          0.004303966492325351,
          0.11380787583804876,
          0.03238814387973631,
          0.08291934691592442,
          0.03901284449774694,
          0.06509018894356235,
          0.0684246558733808,
          0.02313584175002003,
          0.1290906532307251,
          0.2048083299125883,
          0.16450094153762496,
          0.18880828530900726,
          0.2387454278174179,
          0.15635775308173075,
          0.17651939208885875,
          0.21971963407606732,
          0.15379277615303802,
          0.13479164833172746,
          0.16142151092133528,
          0.1453350521754301,
          0.2415153012301495,
          0.22629904617479862,
          0.20443202581771075,
          0.23422652125365198,
          0.22574230965347403,
          0.14850763012259832,
          0.23686713618646862,
          0.19265956239374232,
          0.2262139112829381,
          0.23730922867889384,
          0.16495745118090838,
          0.13893084474034229,
          0.15368476523376182,
          0.17861262723699212,
          0.22753739856583632,
          0.2328835850412943,
          0.12602717676230446,
          0.18908070361267282,
          0.1773990059929003,
          0.1529554309314973,
          0.1401590664736901,
          0.16741199361433148,
          0.24316888287332047,
          0.16560819998286283,
          0.19008738186035598,
          0.213144860470197,
          0.17066788353355886,
          0.24678246516518193,
          0.2456141504918488,
          0.15666940252729303,
          0.18739123379147665,
          0.1628141157127703,
          0.16080686974747907,
          0.12977373068155817,
          0.20144835357940777,
          0.18807090142166857,
          0.1315999980810258,
          0.16003164309294,
          0.3819395381716178,
          0.4419739934690331,
          0.44313551239679155,
          0.45525006329226547,
          0.46634666823718574,
          0.497605990996689,
          0.4400898435071941,
          0.41589149085755683,
          0.4749943784931071,
          0.40936777607511415,
          0.4304115816202224,
          0.38529057614864276,
          0.37864403018568205,
          0.4959534590189848,
          0.4801000266511706,
          0.46257729683194726,
          0.4266545571271997,
          0.39716021454109973,
          0.39505040711910244,
          0.40679087299942507,
          0.44421080474445374,
          0.4649079362925637,
          0.4580995737475527,
          0.410506911367299,
          0.4949793447820729,
          0.4678242203938597,
          0.44485253357114984,
          0.45203238078620817,
          0.42798711920558885,
          0.4064764898748064,
          0.42002370237672987,
          0.47032100300458285,
          0.3772726522980572,
          0.3899985168730735,
          0.3812287612739015,
          0.3805687029570398,
          0.48253814435541537,
          0.4635389603525212,
          0.43481741185689676,
          0.3877158422006791,
          0.4370004072063354,
          0.4347295442973169,
          0.3971486437499892,
          0.429770806032015,
          0.4253468897905663,
          0.4525491983544765,
          0.4549576650120973,
          0.38114132250957866,
          0.42235662212014063,
          0.45380199778912717,
          0.5135349550555414,
          0.6135891498940693,
          0.5638641797219874,
          0.6040652676270027,
          0.5406847437760531,
          0.6127093359802441,
          0.5493396151010969,
          0.5019846826297135,
          0.6139432279692302,
          0.5120534467994909,
          0.5405926327493659,
          0.6195352446166242,
          0.6196034777330471,
          0.5723980789770822,
          0.5797071671762665,
          0.5567544008473377,
          0.5373256745752144,
          0.5417629649547244,
          0.5847987124060318,
          0.5947932644485963,
          0.5996999865282931,
          0.5994545659161422,
          0.5120433624267157,
          0.5625084698773547,
          0.5078321596105058,
          0.5694056979008125,
          0.5558889371399077,
          0.611730727137336,
          0.5445477681996722,
          0.5152800385335728,
          0.5185246936846881,
          0.5959367122273168,
          0.5780026344304928,
          0.5132844916420902,
          0.511154835234188,
          0.5883595155332798,
          0.5097350785118933,
          0.6034898696671046,
          0.5890194807326058,
          0.5108096488511674,
          0.5112463135330702,
          0.6241131912379467,
          0.5474709095576681,
          0.5470167585251612,
          0.6023558850452382,
          0.6191831290134026,
          0.6240332766126253,
          0.5949188790689536,
          0.5477198206557149,
          0.5110789788596004,
          0.7131652158818467,
          0.6928815920637156,
          0.6645249114961052,
          0.7276375414409209,
          0.7114842886838086,
          0.646138001840925,
          0.739794318441279,
          0.7287316924707071,
          0.7446595152216707,
          0.716614268638943,
          0.7025585901141229,
          0.6781314147629895,
          0.7425229050957898,
          0.7341793599573098,
          0.6314447786177617,
          0.6290853556593701,
          0.6729023938170278,
          0.7272318211581121,
          0.7493499285570334,
          0.6446110795676567,
          0.700145001057011,
          0.6734565254552584,
          0.7471769851386221,
          0.731182478162125,
          0.7307081055351868,
          0.6844456043255152,
          0.677702935289578,
          0.6600041700524625,
          0.6328411343217001,
          0.734011460092187,
          0.7275256496979248,
          0.750907075727898,
          0.7505214872990926,
          0.695301546443479,
          0.7220295530125435,
          0.7440294515839209,
          0.7321247190898312,
          0.6567427057360482,
          0.6821741256251203,
          0.6419505561941037,
          0.745191572183552,
          0.7016523826644842,
          0.654401605693534,
          0.7098534309862699,
          0.7031484609501504,
          0.6706119382561826,
          0.6399978777704215,
          0.7098374748601629,
          0.6909055289819093,
          0.7224464482733767,
          0.942756811481457,
          0.8825855613442891,
          0.9182278840954139,
          0.8929224263241343,
          0.8840313049167682,
          1,
          0.9164443416490535,
          0.9774609908813722,
          0.9079695572644628,
          0.9613943622753488,
          0.9712473697216962,
          0.9506478780478045,
          0.9351205727234604,
          0.9276442808940302,
          0.9197628089251219,
          0.992436622162756,
          0.9800573695027573,
          0.9968794185454944,
          0.8916561555093667,
          0.9675727100447906,
          0.9935394202139268,
          0.8987820786709498,
          0.8844219572858947,
          0.9688559672561156,
          0.9479988501662725,
          0.9814603012626805,
          0.8935929803108233,
          0.9756328048116181,
          0.9013345637007764,
          0.8965821774463227,
          0.8966585051184952,
          0.9780492634434425,
          0.9593536135039558,
          0.9415648145871723,
          0.9210096508731107,
          0.9858873275589373,
          0.9252167585834677,
          0.978302671368051,
          0.9310603172232604,
          0.9232767391657376,
          0.9340071250188664,
          0.9138190506337682,
          0.9696680777920215,
          0.9390184896888124,
          0.9051625395866993,
          0.9886875958720084,
          0.9241461792813646,
          0.9441289620608753,
          0.9895508714690529,
          0.9542272770027844
         ],
         "xaxis": "x",
         "y": [
          0.9764541820151972,
          0.7806246771189517,
          0.9461553372646582,
          0.9011672457319818,
          0.6021361292442537,
          0.9284057588204343,
          0.08911947573344535,
          0.19737141053246232,
          0.04554772645243327,
          0.3276353119815713,
          0.3914310871931296,
          0.2732715528630831,
          0.8346091547160551,
          0.35928094136655264,
          0.2829249443538457,
          0.5465411113054666,
          0.14192267996360186,
          0.8078805853834713,
          0.0750788386165645,
          0.9938790785508846,
          0.777716161050966,
          0.2001235918038504,
          0.005561241592032172,
          0.8212390123414406,
          0.7118654625120177,
          0.7341722192872185,
          0.7767348346086591,
          0.07456926169333622,
          0.3610054756676434,
          0.11668999744801482,
          0.8692185556313473,
          0.6277142243748501,
          0.3332424534544055,
          0.06400866428943104,
          0.31318564659194525,
          0.32748726168100495,
          0.7347754736013875,
          0.6420745970520927,
          0.8934986880136401,
          0.4755605908763907,
          0.12044157698812614,
          0.7182981612344108,
          0.7661752476927616,
          0.5652538738161481,
          0.7764295199262358,
          0.49729416218403716,
          0.5264364169051468,
          0.4305701672702427,
          0.025599222493524525,
          0.10865584300165035,
          0.9147009939489632,
          0.2412591983152141,
          0.14592145930802425,
          0.49292055689228825,
          0.9926338355223816,
          0.2437702448843096,
          0.6768976604535377,
          0.7670157273503303,
          0.23932121755084715,
          0.7333757968639683,
          0.3703888941044247,
          0.6367857481602104,
          0.6380182995780436,
          0.5395706737727965,
          0.09092947746715523,
          0.8412206544016089,
          0.323052807335574,
          0.18784000311874585,
          0.04106403541608031,
          0.5950794484331836,
          0.6823649383042941,
          0.01670535450268188,
          0.5157212625267686,
          0.22810050878251426,
          0.6497438710122562,
          0.175601823636094,
          0.6958330655857942,
          0.3894753850408135,
          0.9433667662717324,
          0.1384952867246169,
          0.34348282273773667,
          0.11427748665820346,
          0.9312451175433866,
          0.8835553453755802,
          0.25976915669441825,
          0.6646600651035416,
          0.8230122592412935,
          0.5591344363559465,
          0.533403178467136,
          0.24356582614575814,
          0.09376240544454642,
          0.9035725752411571,
          0.9067975628968312,
          0.6375870118936257,
          0.34143183360950463,
          0.3516837414351847,
          0.7310991101672641,
          0.9034663297819404,
          0.8933714747310515,
          0.7854010020350463,
          0.5067010034458846,
          0.8625581133748661,
          0.6633605080394067,
          0.16408882542282377,
          0.07106873040839538,
          0.6469708500412252,
          0.026699144466383072,
          0.589925829760318,
          0.9468918184205123,
          0.5795514404185768,
          0.3909201290152134,
          0.6478459467611024,
          0.46149963451117104,
          0.5494825108083504,
          0.9481351327418182,
          0.3888381937705531,
          0.968000645723226,
          0.9117650952927537,
          0.19717832450303,
          0.0698527290657664,
          0.10149201841926994,
          0.018350928172644356,
          0.09511209372681677,
          0.687845909629103,
          0.07169302349735668,
          0.321235588150134,
          0.850861293644439,
          0.023436818532517084,
          0.820239031405783,
          0.28385172956276317,
          0.11900203117317693,
          0.701673582071726,
          0.6333989374426113,
          0.8836889454252399,
          0.7402790579048587,
          0.8091736318598689,
          0.2840328012368137,
          0.17869671157848807,
          0.7559328936679395,
          0.8125512026413536,
          0.997522919112299,
          0.4155410932230595,
          0.3746538520264789,
          0.7819138843354465,
          0.34321814991321387,
          0.9373517865297395,
          0.864494647945079,
          0.43203347092627103,
          0.7561910258309738,
          0.7598888470503513,
          0.7826530396290766,
          0.5623605710073082,
          0.4272276428176693,
          0.912775950000388,
          0.11198532187720324,
          0.4961153771172291,
          0.011434085892864805,
          0.47198112543943477,
          0.05670218712876983,
          0.11965974698442025,
          0.1183589259522798,
          0.6538099886857054,
          0.7513306435244349,
          0.5875019611743318,
          0.9689895877828695,
          0.3775265558142355,
          0.28773637031089033,
          0.874753195263432,
          0.225180025911602,
          0.9700470179860076,
          0.012240589734216554,
          0.9767504653721,
          0.0434657020261478,
          0.897456906005965,
          0.5314398971128266,
          1,
          0.07431941698619145,
          0.5577783689471079,
          0.9761700912331654,
          0.5268040178408308,
          0.6338579581019135,
          0.7006781022889618,
          0.4577615103216228,
          0.6320043596073924,
          0.5884542072455281,
          0.9075427588298093,
          0.04576837015679827,
          0.28295382745721614,
          0.9571451956715401,
          0.8965713461043537,
          0.4588851030434394,
          0.6245262674217007,
          0.27934644215504145,
          0.18945400729106954,
          0.4669837306943869,
          0.3558557457495191,
          0.5877913437937716,
          0.07828539064908134,
          0.9812984422753869,
          0.9931980955759019,
          0.5238488848193749,
          0.8582192477004534,
          0.555817125573278,
          0.5649122443490857,
          0.8828647360757178,
          0.4063415619458883,
          0.13496473286303634,
          0.028986602975077536,
          0.7604874398617578,
          0.6247044746981515,
          0.7090682075043389,
          0.21447302295229007,
          0.13733767412473838,
          0.014647715331626369,
          0.3530714887141633,
          0.5940972823610123,
          0.3950231132389571,
          0.4405744531260989,
          0.9105647028246887,
          0.3507228739471434,
          0.5176311296921923,
          0.7892052324551802,
          0.3993523072228104,
          0.6264942147587803,
          0.8684735975706595,
          0.9562480234632219,
          0.14811550369542778,
          0.9331525435572128,
          0.4956029609537261,
          0.26007406235168423,
          0.46238875540467617,
          0.9869761537525147,
          0.49610831715093723,
          0.33108083143766376,
          0.6378885301796998,
          0.24184706216849666,
          0.07640082347848842,
          0.12979284100940564,
          0.12895304995524565,
          0.15297893148474107,
          0.13981076992051858,
          0.6454153735438334,
          0.18316871364419723,
          0.3481163528403003,
          0.9031421994121397,
          0.47731968153876825,
          0.6722874175700616,
          0.1735407658711461,
          0.19365139586033028,
          0.04115817240067459,
          0.11772626901298451,
          0.94649087992497,
          0.6321553951606573,
          0.33727843722754564,
          0.14025882207273574,
          0.7996508963595698,
          0.6244660015660963,
          0.5372406897618035,
          0.9002258554829574,
          0.7941844608253205,
          0.15274950363348844,
          0.3139306338087903,
          0.25024969745716025,
          0.7492171882428903,
          0.033770013666980604,
          0.5739273810094339,
          0.7678607426169864,
          0.8829775639461944,
          0.3445054145452382,
          0.8270759526235433,
          0.11141556819292847,
          0.8524494473949312,
          0.12839192570595948,
          0.4001020903389962,
          0.8029442422284647,
          0.15097959961388385,
          0.23087565251920367,
          0.7273697629722321,
          0.7251380304318111,
          0.6456901950512516,
          0.6988651029514698,
          0.5465696724281354,
          0.25358306748742,
          0.3481452664333788,
          0.1828843454583132,
          0.9148869777498959,
          0.5875251540096176,
          0.40369146854978666,
          0.46527913723602415,
          0.9539948881511036,
          0.15443790526653844,
          0.5903832988922644,
          0.5094729247820037,
          0.615786418435306,
          0.018238495354134035,
          0.878302949261224,
          0.9387223858554825,
          0.5691371796843748,
          0.7015866288508306,
          0.929035334165524
         ],
         "yaxis": "y"
        },
        {
         "hovertemplate": "Target=1<br>x1=%{x}<br>x2=%{y}<extra></extra>",
         "legendgroup": "1",
         "marker": {
          "color": "red",
          "opacity": 0.7,
          "symbol": "circle"
         },
         "mode": "markers",
         "name": "1",
         "orientation": "v",
         "showlegend": true,
         "type": "scatter",
         "x": [
          0.3306689356780449,
          0.26084484833182253,
          0.2705431130097165,
          0.362774545081818,
          0.32621302032187444,
          0.2514652129896323,
          0.2630140178103794,
          0.3333560733269573,
          0.2509476299666723,
          0.2704404012748335,
          0.3189920494265355,
          0.3369097116128571,
          0.3319116969759122,
          0.2783830262938918,
          0.33944840055058356,
          0.28000753726249744,
          0.2910402092782003,
          0.34374281288462655,
          0.33162028620693906,
          0.3566004495171214,
          0.332619038769033,
          0.3214419757590261,
          0.2620381963029916,
          0.29633636891722126,
          0.2835060878649907,
          0.28085116547668526,
          0.3720932856086523,
          0.2995130958181178,
          0.36196006876895914,
          0.3293055972082405,
          0.3497903897208345,
          0.31322272205560237,
          0.3225177359682001,
          0.3119562077060934,
          0.2747501769657002,
          0.3407341258377164,
          0.28545478276537484,
          0.25335745204653454,
          0.33109955731480006,
          0.27248079040261186,
          0.36801917642002685,
          0.3697050412125784,
          0.364815882112164,
          0.29664211476888486,
          0.2522486417840414,
          0.36649976688454816,
          0.3039044097458542,
          0.37129782035927456,
          0.37091798843694357,
          0.3570742998071183,
          0.7720858281702513,
          0.785809961053325,
          0.7730965242150007,
          0.762044160004012,
          0.7660408428928819,
          0.8086121307390021,
          0.7767665342371001,
          0.7965333588580834,
          0.8139486407568218,
          0.837350203760419,
          0.755862603090157,
          0.8509942729558758,
          0.829528582961217,
          0.7611751316726773,
          0.8602769505963814,
          0.8661961010113378,
          0.7585867493162582,
          0.7855956056829676,
          0.8518441996997524,
          0.8445924002258931,
          0.7740365207683233,
          0.7771439585099634,
          0.7973096132527127,
          0.8115838873520125,
          0.8283213656935378,
          0.7971145605645539,
          0.8088319000556632,
          0.8444936823065341,
          0.7555335730481995,
          0.7825366788432438,
          0.8402231538862697,
          0.8629838744046808,
          0.8149824595770113,
          0.8175401748290604,
          0.76435574567472,
          0.8069392311474515,
          0.8176032266059222,
          0.7812893083408364,
          0.7846401044068944,
          0.7981621907518629,
          0.7534544631866098,
          0.791252895096341,
          0.7774066236045064,
          0.7919310194470446,
          0.7659314882458078,
          0.8623981947753463,
          0.8252347022735785,
          0.8359368663774496,
          0.8497127696687635,
          0.8133259753390853
         ],
         "xaxis": "x",
         "y": [
          0.29653507679260055,
          0.387826164741149,
          0.8571670162358873,
          0.31916741297865797,
          0.17069361104089806,
          0.5607462264870193,
          0.9427874762725285,
          0.7009612016409774,
          0.5741000812085937,
          0.09786499395603267,
          0.6193645828157631,
          0.997068429790851,
          0.14107651729849802,
          0.5220020431635339,
          0.8835893028201001,
          0.7460169994437591,
          0.7019541314247404,
          0.7074612178926724,
          0.3620381635126608,
          0.2956719567621203,
          0.8150955186343509,
          0.8158530874863454,
          0.8732155681337254,
          0.9197109062935493,
          0.5149652846297909,
          0.5050695620300164,
          0.803951139140751,
          0.6545689568431334,
          0.7069403467284303,
          0.8014308992083241,
          0.8963110729563427,
          0.3403898689787258,
          0.3782439761286556,
          0.09464780645614901,
          0.5823772839240678,
          0.036196926554910594,
          0.4688968027387354,
          0.5464892983400191,
          0.2885714108376686,
          0.5950193429596922,
          0.030716345693473063,
          0.03761280248320827,
          0.8284287256452003,
          0.36274260962620025,
          0.12796074256455212,
          0.5259433789554601,
          0.7754489948766516,
          0.21735012997471184,
          0.6273036851390679,
          0.08595215593475468,
          0.08753612255653483,
          0.5409119677934854,
          0.5909989158874196,
          0.7507209491188938,
          0.43471787511167453,
          0.1284842154466829,
          0.28578647189485057,
          0.3656547521298151,
          0.6504935964054028,
          0.5748222967215197,
          0.35861968852223314,
          0.9935047573171508,
          0.610066763418374,
          0.23890755509472536,
          0.10250360638986342,
          0.15394215362088898,
          0.24770035085408748,
          0.16181980860502784,
          0.18788886049177775,
          0.28711508183175727,
          0.17460195565072656,
          0.9031190512807291,
          0.08080220565241718,
          0.5282275782788546,
          0.41330450847157135,
          0.989338817194661,
          0.1128327032397545,
          0.4006744253176333,
          0.976339178452497,
          0.871639285981286,
          0.8228610663163051,
          0.25973008111956664,
          0.17209833425910742,
          0.673380589662009,
          0.9359606632176367,
          0.5607075851932188,
          0.5756625931794093,
          0.28196275915772334,
          0.7749448280535877,
          0.18836896261431094,
          0.3259725195387038,
          0.428450676478265,
          0.5112068229088234,
          0.24412721716063313,
          0.11565044922841997,
          0.6149463151443582,
          0.29067551474964687,
          0.5853563224942155,
          0.15545638262049352,
          0.4845490028802699
         ],
         "yaxis": "y"
        }
       ],
       "layout": {
        "coloraxis": {
         "showscale": false
        },
        "height": 600,
        "legend": {
         "title": {
          "text": "Target"
         },
         "tracegroupgap": 0
        },
        "shapes": [
         {
          "line": {
           "color": "green",
           "dash": "dash"
          },
          "type": "line",
          "x0": 0.24886504756592712,
          "x1": 0.24886504756592712,
          "y0": 0.005561241592032172,
          "y1": 1
         },
         {
          "line": {
           "color": "green",
           "dash": "dash"
          },
          "type": "line",
          "x0": 0.37468296895335473,
          "x1": 0.37468296895335473,
          "y0": 0.011434085892864805,
          "y1": 1
         },
         {
          "line": {
           "color": "green",
           "dash": "dash"
          },
          "type": "line",
          "x0": 0.752180769457254,
          "x1": 0.752180769457254,
          "y0": 0.011434085892864805,
          "y1": 1
         },
         {
          "line": {
           "color": "green",
           "dash": "dash"
          },
          "type": "line",
          "x0": 0.8743908311778135,
          "x1": 0.8743908311778135,
          "y0": 0.018238495354134035,
          "y1": 0.9935047573171508
         }
        ],
        "showlegend": true,
        "template": {
         "data": {
          "bar": [
           {
            "error_x": {
             "color": "#2a3f5f"
            },
            "error_y": {
             "color": "#2a3f5f"
            },
            "marker": {
             "line": {
              "color": "#E5ECF6",
              "width": 0.5
             },
             "pattern": {
              "fillmode": "overlay",
              "size": 10,
              "solidity": 0.2
             }
            },
            "type": "bar"
           }
          ],
          "barpolar": [
           {
            "marker": {
             "line": {
              "color": "#E5ECF6",
              "width": 0.5
             },
             "pattern": {
              "fillmode": "overlay",
              "size": 10,
              "solidity": 0.2
             }
            },
            "type": "barpolar"
           }
          ],
          "carpet": [
           {
            "aaxis": {
             "endlinecolor": "#2a3f5f",
             "gridcolor": "white",
             "linecolor": "white",
             "minorgridcolor": "white",
             "startlinecolor": "#2a3f5f"
            },
            "baxis": {
             "endlinecolor": "#2a3f5f",
             "gridcolor": "white",
             "linecolor": "white",
             "minorgridcolor": "white",
             "startlinecolor": "#2a3f5f"
            },
            "type": "carpet"
           }
          ],
          "choropleth": [
           {
            "colorbar": {
             "outlinewidth": 0,
             "ticks": ""
            },
            "type": "choropleth"
           }
          ],
          "contour": [
           {
            "colorbar": {
             "outlinewidth": 0,
             "ticks": ""
            },
            "colorscale": [
             [
              0,
              "#0d0887"
             ],
             [
              0.1111111111111111,
              "#46039f"
             ],
             [
              0.2222222222222222,
              "#7201a8"
             ],
             [
              0.3333333333333333,
              "#9c179e"
             ],
             [
              0.4444444444444444,
              "#bd3786"
             ],
             [
              0.5555555555555556,
              "#d8576b"
             ],
             [
              0.6666666666666666,
              "#ed7953"
             ],
             [
              0.7777777777777778,
              "#fb9f3a"
             ],
             [
              0.8888888888888888,
              "#fdca26"
             ],
             [
              1,
              "#f0f921"
             ]
            ],
            "type": "contour"
           }
          ],
          "contourcarpet": [
           {
            "colorbar": {
             "outlinewidth": 0,
             "ticks": ""
            },
            "type": "contourcarpet"
           }
          ],
          "heatmap": [
           {
            "colorbar": {
             "outlinewidth": 0,
             "ticks": ""
            },
            "colorscale": [
             [
              0,
              "#0d0887"
             ],
             [
              0.1111111111111111,
              "#46039f"
             ],
             [
              0.2222222222222222,
              "#7201a8"
             ],
             [
              0.3333333333333333,
              "#9c179e"
             ],
             [
              0.4444444444444444,
              "#bd3786"
             ],
             [
              0.5555555555555556,
              "#d8576b"
             ],
             [
              0.6666666666666666,
              "#ed7953"
             ],
             [
              0.7777777777777778,
              "#fb9f3a"
             ],
             [
              0.8888888888888888,
              "#fdca26"
             ],
             [
              1,
              "#f0f921"
             ]
            ],
            "type": "heatmap"
           }
          ],
          "heatmapgl": [
           {
            "colorbar": {
             "outlinewidth": 0,
             "ticks": ""
            },
            "colorscale": [
             [
              0,
              "#0d0887"
             ],
             [
              0.1111111111111111,
              "#46039f"
             ],
             [
              0.2222222222222222,
              "#7201a8"
             ],
             [
              0.3333333333333333,
              "#9c179e"
             ],
             [
              0.4444444444444444,
              "#bd3786"
             ],
             [
              0.5555555555555556,
              "#d8576b"
             ],
             [
              0.6666666666666666,
              "#ed7953"
             ],
             [
              0.7777777777777778,
              "#fb9f3a"
             ],
             [
              0.8888888888888888,
              "#fdca26"
             ],
             [
              1,
              "#f0f921"
             ]
            ],
            "type": "heatmapgl"
           }
          ],
          "histogram": [
           {
            "marker": {
             "pattern": {
              "fillmode": "overlay",
              "size": 10,
              "solidity": 0.2
             }
            },
            "type": "histogram"
           }
          ],
          "histogram2d": [
           {
            "colorbar": {
             "outlinewidth": 0,
             "ticks": ""
            },
            "colorscale": [
             [
              0,
              "#0d0887"
             ],
             [
              0.1111111111111111,
              "#46039f"
             ],
             [
              0.2222222222222222,
              "#7201a8"
             ],
             [
              0.3333333333333333,
              "#9c179e"
             ],
             [
              0.4444444444444444,
              "#bd3786"
             ],
             [
              0.5555555555555556,
              "#d8576b"
             ],
             [
              0.6666666666666666,
              "#ed7953"
             ],
             [
              0.7777777777777778,
              "#fb9f3a"
             ],
             [
              0.8888888888888888,
              "#fdca26"
             ],
             [
              1,
              "#f0f921"
             ]
            ],
            "type": "histogram2d"
           }
          ],
          "histogram2dcontour": [
           {
            "colorbar": {
             "outlinewidth": 0,
             "ticks": ""
            },
            "colorscale": [
             [
              0,
              "#0d0887"
             ],
             [
              0.1111111111111111,
              "#46039f"
             ],
             [
              0.2222222222222222,
              "#7201a8"
             ],
             [
              0.3333333333333333,
              "#9c179e"
             ],
             [
              0.4444444444444444,
              "#bd3786"
             ],
             [
              0.5555555555555556,
              "#d8576b"
             ],
             [
              0.6666666666666666,
              "#ed7953"
             ],
             [
              0.7777777777777778,
              "#fb9f3a"
             ],
             [
              0.8888888888888888,
              "#fdca26"
             ],
             [
              1,
              "#f0f921"
             ]
            ],
            "type": "histogram2dcontour"
           }
          ],
          "mesh3d": [
           {
            "colorbar": {
             "outlinewidth": 0,
             "ticks": ""
            },
            "type": "mesh3d"
           }
          ],
          "parcoords": [
           {
            "line": {
             "colorbar": {
              "outlinewidth": 0,
              "ticks": ""
             }
            },
            "type": "parcoords"
           }
          ],
          "pie": [
           {
            "automargin": true,
            "type": "pie"
           }
          ],
          "scatter": [
           {
            "fillpattern": {
             "fillmode": "overlay",
             "size": 10,
             "solidity": 0.2
            },
            "type": "scatter"
           }
          ],
          "scatter3d": [
           {
            "line": {
             "colorbar": {
              "outlinewidth": 0,
              "ticks": ""
             }
            },
            "marker": {
             "colorbar": {
              "outlinewidth": 0,
              "ticks": ""
             }
            },
            "type": "scatter3d"
           }
          ],
          "scattercarpet": [
           {
            "marker": {
             "colorbar": {
              "outlinewidth": 0,
              "ticks": ""
             }
            },
            "type": "scattercarpet"
           }
          ],
          "scattergeo": [
           {
            "marker": {
             "colorbar": {
              "outlinewidth": 0,
              "ticks": ""
             }
            },
            "type": "scattergeo"
           }
          ],
          "scattergl": [
           {
            "marker": {
             "colorbar": {
              "outlinewidth": 0,
              "ticks": ""
             }
            },
            "type": "scattergl"
           }
          ],
          "scattermapbox": [
           {
            "marker": {
             "colorbar": {
              "outlinewidth": 0,
              "ticks": ""
             }
            },
            "type": "scattermapbox"
           }
          ],
          "scatterpolar": [
           {
            "marker": {
             "colorbar": {
              "outlinewidth": 0,
              "ticks": ""
             }
            },
            "type": "scatterpolar"
           }
          ],
          "scatterpolargl": [
           {
            "marker": {
             "colorbar": {
              "outlinewidth": 0,
              "ticks": ""
             }
            },
            "type": "scatterpolargl"
           }
          ],
          "scatterternary": [
           {
            "marker": {
             "colorbar": {
              "outlinewidth": 0,
              "ticks": ""
             }
            },
            "type": "scatterternary"
           }
          ],
          "surface": [
           {
            "colorbar": {
             "outlinewidth": 0,
             "ticks": ""
            },
            "colorscale": [
             [
              0,
              "#0d0887"
             ],
             [
              0.1111111111111111,
              "#46039f"
             ],
             [
              0.2222222222222222,
              "#7201a8"
             ],
             [
              0.3333333333333333,
              "#9c179e"
             ],
             [
              0.4444444444444444,
              "#bd3786"
             ],
             [
              0.5555555555555556,
              "#d8576b"
             ],
             [
              0.6666666666666666,
              "#ed7953"
             ],
             [
              0.7777777777777778,
              "#fb9f3a"
             ],
             [
              0.8888888888888888,
              "#fdca26"
             ],
             [
              1,
              "#f0f921"
             ]
            ],
            "type": "surface"
           }
          ],
          "table": [
           {
            "cells": {
             "fill": {
              "color": "#EBF0F8"
             },
             "line": {
              "color": "white"
             }
            },
            "header": {
             "fill": {
              "color": "#C8D4E3"
             },
             "line": {
              "color": "white"
             }
            },
            "type": "table"
           }
          ]
         },
         "layout": {
          "annotationdefaults": {
           "arrowcolor": "#2a3f5f",
           "arrowhead": 0,
           "arrowwidth": 1
          },
          "autotypenumbers": "strict",
          "coloraxis": {
           "colorbar": {
            "outlinewidth": 0,
            "ticks": ""
           }
          },
          "colorscale": {
           "diverging": [
            [
             0,
             "#8e0152"
            ],
            [
             0.1,
             "#c51b7d"
            ],
            [
             0.2,
             "#de77ae"
            ],
            [
             0.3,
             "#f1b6da"
            ],
            [
             0.4,
             "#fde0ef"
            ],
            [
             0.5,
             "#f7f7f7"
            ],
            [
             0.6,
             "#e6f5d0"
            ],
            [
             0.7,
             "#b8e186"
            ],
            [
             0.8,
             "#7fbc41"
            ],
            [
             0.9,
             "#4d9221"
            ],
            [
             1,
             "#276419"
            ]
           ],
           "sequential": [
            [
             0,
             "#0d0887"
            ],
            [
             0.1111111111111111,
             "#46039f"
            ],
            [
             0.2222222222222222,
             "#7201a8"
            ],
            [
             0.3333333333333333,
             "#9c179e"
            ],
            [
             0.4444444444444444,
             "#bd3786"
            ],
            [
             0.5555555555555556,
             "#d8576b"
            ],
            [
             0.6666666666666666,
             "#ed7953"
            ],
            [
             0.7777777777777778,
             "#fb9f3a"
            ],
            [
             0.8888888888888888,
             "#fdca26"
            ],
            [
             1,
             "#f0f921"
            ]
           ],
           "sequentialminus": [
            [
             0,
             "#0d0887"
            ],
            [
             0.1111111111111111,
             "#46039f"
            ],
            [
             0.2222222222222222,
             "#7201a8"
            ],
            [
             0.3333333333333333,
             "#9c179e"
            ],
            [
             0.4444444444444444,
             "#bd3786"
            ],
            [
             0.5555555555555556,
             "#d8576b"
            ],
            [
             0.6666666666666666,
             "#ed7953"
            ],
            [
             0.7777777777777778,
             "#fb9f3a"
            ],
            [
             0.8888888888888888,
             "#fdca26"
            ],
            [
             1,
             "#f0f921"
            ]
           ]
          },
          "colorway": [
           "#636efa",
           "#EF553B",
           "#00cc96",
           "#ab63fa",
           "#FFA15A",
           "#19d3f3",
           "#FF6692",
           "#B6E880",
           "#FF97FF",
           "#FECB52"
          ],
          "font": {
           "color": "#2a3f5f"
          },
          "geo": {
           "bgcolor": "white",
           "lakecolor": "white",
           "landcolor": "#E5ECF6",
           "showlakes": true,
           "showland": true,
           "subunitcolor": "white"
          },
          "hoverlabel": {
           "align": "left"
          },
          "hovermode": "closest",
          "mapbox": {
           "style": "light"
          },
          "paper_bgcolor": "white",
          "plot_bgcolor": "#E5ECF6",
          "polar": {
           "angularaxis": {
            "gridcolor": "white",
            "linecolor": "white",
            "ticks": ""
           },
           "bgcolor": "#E5ECF6",
           "radialaxis": {
            "gridcolor": "white",
            "linecolor": "white",
            "ticks": ""
           }
          },
          "scene": {
           "xaxis": {
            "backgroundcolor": "#E5ECF6",
            "gridcolor": "white",
            "gridwidth": 2,
            "linecolor": "white",
            "showbackground": true,
            "ticks": "",
            "zerolinecolor": "white"
           },
           "yaxis": {
            "backgroundcolor": "#E5ECF6",
            "gridcolor": "white",
            "gridwidth": 2,
            "linecolor": "white",
            "showbackground": true,
            "ticks": "",
            "zerolinecolor": "white"
           },
           "zaxis": {
            "backgroundcolor": "#E5ECF6",
            "gridcolor": "white",
            "gridwidth": 2,
            "linecolor": "white",
            "showbackground": true,
            "ticks": "",
            "zerolinecolor": "white"
           }
          },
          "shapedefaults": {
           "line": {
            "color": "#2a3f5f"
           }
          },
          "ternary": {
           "aaxis": {
            "gridcolor": "white",
            "linecolor": "white",
            "ticks": ""
           },
           "baxis": {
            "gridcolor": "white",
            "linecolor": "white",
            "ticks": ""
           },
           "bgcolor": "#E5ECF6",
           "caxis": {
            "gridcolor": "white",
            "linecolor": "white",
            "ticks": ""
           }
          },
          "title": {
           "x": 0.05
          },
          "xaxis": {
           "automargin": true,
           "gridcolor": "white",
           "linecolor": "white",
           "ticks": "",
           "title": {
            "standoff": 15
           },
           "zerolinecolor": "white",
           "zerolinewidth": 2
          },
          "yaxis": {
           "automargin": true,
           "gridcolor": "white",
           "linecolor": "white",
           "ticks": "",
           "title": {
            "standoff": 15
           },
           "zerolinecolor": "white",
           "zerolinewidth": 2
          }
         }
        },
        "title": {
         "text": "All Tree Splits"
        },
        "width": 600,
        "xaxis": {
         "anchor": "y",
         "domain": [
          0,
          1
         ],
         "title": {
          "text": "x1"
         }
        },
        "yaxis": {
         "anchor": "x",
         "domain": [
          0,
          1
         ],
         "title": {
          "text": "x2"
         }
        }
       }
      }
     },
     "metadata": {},
     "output_type": "display_data"
    },
    {
     "name": "stdout",
     "output_type": "stream",
     "text": [
      "Accuracy of tree model without the limit on feature use: 1.00\n",
      "Misclassification Rate of tree model without the limit on feature use: 0.00\n"
     ]
    }
   ],
   "source": [
    "# Make sure the target column is named 'target'\n",
    "tree_model_Without_feature_limit = build_tree_without_feature_limit(df_stripes, features=['x1', 'x2'], target_col='target',\n",
    "                  max_depth=4, min_samples=5)\n",
    "\n",
    "# Print split history\n",
    "print(\"=== Split History ===\")\n",
    "for step in tree_model_Without_feature_limit['history']:\n",
    "    print(f\"Depth {step['depth']}: Split on {step['feature']} < {step['threshold']:.2f} \"\n",
    "          f\"(Gini = {step['gini']:.3f}, Samples = {step['samples']})\")\n",
    "\n",
    "# Plot all splits with Plotly\n",
    "plot_all_splits(df_stripes, tree_model_Without_feature_limit['history'])\n",
    "\n",
    "\n",
    "# Make predictions\n",
    "predictions = predict_tree(tree_model_Without_feature_limit, df_stripes)  # use df_stripes here\n",
    "\n",
    "# Compare to actual\n",
    "actual = df_stripes['target']                  # use df_stripes here\n",
    "correct = (predictions == actual)\n",
    "\n",
    "accuracy = correct.mean()\n",
    "misclassification_rate = 1 - accuracy\n",
    "\n",
    "print(f\"Accuracy of tree model without the limit on feature use: {accuracy:.2f}\")\n",
    "print(f\"Misclassification Rate of tree model without the limit on feature use: {misclassification_rate:.2f}\")\n",
    "\n"
   ]
  },
  {
   "cell_type": "markdown",
   "metadata": {},
   "source": [
    "### Tree Model Without Feature Use Limit — Results\n",
    "\n",
    "**Split History:**\n",
    "- Depth 0: Split on x1 < 0.25 (Gini = 0.333, Samples = 400)\n",
    "- Depth 1: Split on x1 < 0.37 (Gini = 0.267, Samples = 300)\n",
    "- Depth 2: Split on x1 < 0.75 (Gini = 0.200, Samples = 250)\n",
    "- Depth 3: Split on x1 < 0.87 (Gini = 0.000, Samples = 100)\n",
    "\n",
    "**Performance Metrics:**\n",
    "-  **Accuracy of tree model without the limit on feature use:** `1.00`\n",
    "-  **Misclassification Rate:** `0.00`\n",
    "\n",
    "### Insight\n",
    "\n",
    "This result highlights a key point:\n",
    "\n",
    "- When **no restriction is placed on how often a feature can be reused** (in this case, `x1` is reused at every depth), the model was able to **perfectly separate** the classes in this stripe-based dataset.\n",
    "- This confirms that **feature repetition is essential** for accurately learning complex or structured data patterns (like alternating stripes), especially when only one feature holds the dominant predictive power.\n",
    "\n",
    "In contrast, models with a restriction on feature reuse (like `max_feature_usage=2`) **fail to capture** such patterns effectively, leading to **lower accuracy**, as seen in previous results (accuracy = 0.88)."
   ]
  },
  {
   "cell_type": "markdown",
   "metadata": {},
   "source": [
    "# Final Conclusion: Impact of Feature Usage Restriction in Decision Trees\n",
    "\n",
    "This experiment demonstrates the **significant effect of limiting feature reuse** in decision tree construction. Both models were trained on the same dataset with the **same configuration parameters**:\n",
    "\n",
    "- `max_depth = 4`\n",
    "- `min_samples = 5`\n",
    "- Dataset: `df_stripes` with features `['x1', 'x2']`\n",
    "  \n",
    "Yet, the performance outcomes were starkly different due to **only one difference**:\n",
    "> The `max_feature_usage` parameter was set to `2` in one model and left unrestricted in the other.\n",
    "\n",
    "## Key Takeaways\n",
    "\n",
    "- **Unrestricted Feature Use**:\n",
    "  - Allowed the model to **repeatedly split on the most informative feature (`x1`)** at multiple levels.\n",
    "  - Resulted in **perfect classification** (Accuracy = 1.00, Misclassification Rate = 0.00).\n",
    "  - Fully captured the **alternating stripe patterns** in the data.\n",
    "\n",
    "- **Restricted Feature Use (max_feature_usage = 2)**:\n",
    "  - Forced the model to split on the less-informative feature `x2` after two uses of `x1`.\n",
    "  - Produced **weaker splits** at deeper levels.\n",
    "  - Resulted in a **lower accuracy** of 0.88 and a **misclassification rate** of 0.12.\n",
    "  - This shows that **premature feature switching** can hinder the model’s ability to learn data structures that are predominantly defined by one feature.\n",
    "\n",
    "## Conclusion\n",
    "\n",
    "- Even when using the **same model depth, dataset, and sample thresholds**, **restricting the number of times a feature can be used** can severely impact model performance.\n",
    "- This approach sheds light on the **importance of feature selection freedom** in decision trees, especially for datasets where one feature holds **dominant predictive power**.\n",
    "- Therefore, **feature usage restrictions should be applied with caution**, and only when justified by the problem domain or a need for model interpretability or generalization.\n",
    "\n",
    "This experimental approach offers a **powerful lens** for understanding decision tree behavior and tuning tree-based models effectively.\n"
   ]
  },
  {
   "cell_type": "markdown",
   "metadata": {},
   "source": []
  }
 ],
 "metadata": {
  "kernelspec": {
   "display_name": "Python 3",
   "language": "python",
   "name": "python3"
  },
  "language_info": {
   "codemirror_mode": {
    "name": "ipython",
    "version": 3
   },
   "file_extension": ".py",
   "mimetype": "text/x-python",
   "name": "python",
   "nbconvert_exporter": "python",
   "pygments_lexer": "ipython3",
   "version": "3.11.9"
  }
 },
 "nbformat": 4,
 "nbformat_minor": 2
}
